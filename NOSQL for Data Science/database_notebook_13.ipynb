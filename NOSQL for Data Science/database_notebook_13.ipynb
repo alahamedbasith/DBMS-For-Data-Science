{
 "cells": [
  {
   "cell_type": "markdown",
   "id": "d19c8fcf",
   "metadata": {},
   "source": [
    "# 13. Updating and Deleting records in MongoDB"
   ]
  },
  {
   "cell_type": "markdown",
   "id": "10164f70",
   "metadata": {},
   "source": [
    "MongoDb with python Updating Json Documents\n",
    "Functions to Discuss\n",
    "\n",
    "- pymongo.collection.Collection.update_one()\n",
    "- pymongo.collection.Collection.update_many() -- replace_all() and update_many() both are same\n",
    "- pymongo.collection.Collection.replace_one() -- It is also acheived by update_one\n",
    "- pymongo.collection.Collection.delete_one()\n",
    "- pymongo.collection.Collection.delete_many()"
   ]
  },
  {
   "cell_type": "code",
   "execution_count": 1,
   "id": "37bdad69",
   "metadata": {},
   "outputs": [],
   "source": [
    "import pymongo\n",
    "\n",
    "client = pymongo.MongoClient(\"mongodb://localhost:27017/\")"
   ]
  },
  {
   "cell_type": "code",
   "execution_count": 2,
   "id": "850c1198",
   "metadata": {},
   "outputs": [],
   "source": [
    "mydb = client['pictures']"
   ]
  },
  {
   "cell_type": "code",
   "execution_count": 3,
   "id": "02d05d16",
   "metadata": {},
   "outputs": [
    {
     "name": "stdout",
     "output_type": "stream",
     "text": [
      "Collection(Database(MongoClient(host=['localhost:27017'], document_class=dict, tz_aware=False, connect=True), 'pictures'), 'information')\n"
     ]
    }
   ],
   "source": [
    "# Access my collection\n",
    "information = mydb.information # the collection naming is our wish\n",
    "print(information)"
   ]
  },
  {
   "cell_type": "code",
   "execution_count": 4,
   "id": "cf05ee94",
   "metadata": {},
   "outputs": [
    {
     "data": {
      "text/plain": [
       "InsertManyResult([ObjectId('668ba3dd096f3ed50cc1b894'), ObjectId('668ba3dd096f3ed50cc1b895'), ObjectId('668ba3dd096f3ed50cc1b896'), ObjectId('668ba3dd096f3ed50cc1b897'), ObjectId('668ba3dd096f3ed50cc1b898'), ObjectId('668ba3dd096f3ed50cc1b899'), ObjectId('668ba3dd096f3ed50cc1b89a'), ObjectId('668ba3dd096f3ed50cc1b89b'), ObjectId('668ba3dd096f3ed50cc1b89c'), ObjectId('668ba3dd096f3ed50cc1b89d')], acknowledged=True)"
      ]
     },
     "execution_count": 4,
     "metadata": {},
     "output_type": "execute_result"
    }
   ],
   "source": [
    "information.insert_many([\n",
    "    {\"item\": \"canvas\",\n",
    "     \"qty\": 100,\n",
    "     \"size\": {\"h\": 28, \"w\": 35.5, \"uom\": \"cm\"},\n",
    "     \"status\": \"A\"},\n",
    "    {\"item\": \"journal\",\n",
    "     \"qty\": 25,\n",
    "     \"size\": {\"h\": 14, \"w\": 21, \"uom\": \"cm\"},\n",
    "     \"status\": \"A\"},\n",
    "    {\"item\": \"mat\",\n",
    "     \"qty\": 85,\n",
    "     \"size\": {\"h\": 27.9, \"w\": 35.5, \"uom\": \"cm\"},\n",
    "     \"status\": \"A\"},\n",
    "    {\"item\": \"mousepad\",\n",
    "     \"qty\": 25,\n",
    "     \"size\": {\"h\": 19, \"w\": 22.85, \"uom\": \"cm\"},\n",
    "     \"status\": \"P\"},\n",
    "    {\"item\": \"notebook\",\n",
    "     \"qty\": 50,\n",
    "     \"size\": {\"h\": 8.5, \"w\": 11, \"uom\": \"in\"},\n",
    "     \"status\": \"P\"},\n",
    "    {\"item\": \"paper\",\n",
    "     \"qty\": 100,\n",
    "     \"size\": {\"h\": 8.5, \"w\": 11, \"uom\": \"in\"},\n",
    "     \"status\": \"D\"},\n",
    "    {\"item\": \"planner\",\n",
    "     \"qty\": 75,\n",
    "     \"size\": {\"h\": 22.85, \"w\": 30, \"uom\": \"cm\"},\n",
    "     \"status\": \"D\"},\n",
    "    {\"item\": \"postcard\",\n",
    "     \"qty\": 45,\n",
    "     \"size\": {\"h\": 10, \"w\": 15.25, \"uom\": \"cm\"},\n",
    "     \"status\": \"A\"},\n",
    "    {\"item\": \"sketchbook\",\n",
    "     \"qty\": 80,\n",
    "     \"size\": {\"h\": 14, \"w\": 21, \"uom\": \"cm\"},\n",
    "     \"status\": \"A\"},\n",
    "    {\"item\": \"sketch pad\",\n",
    "     \"qty\": 95,\n",
    "     \"size\": {\"h\": 22.85, \"w\": 30.5, \"uom\": \"cm\"},\n",
    "     \"status\": \"A\"}])"
   ]
  },
  {
   "cell_type": "code",
   "execution_count": 6,
   "id": "6ad7c33b",
   "metadata": {},
   "outputs": [
    {
     "name": "stdout",
     "output_type": "stream",
     "text": [
      "{'_id': ObjectId('668ba3dd096f3ed50cc1b894'), 'item': 'canvas', 'qty': 100, 'size': {'h': 28, 'w': 35.5, 'uom': 'cm'}, 'status': 'A'}\n",
      "{'_id': ObjectId('668ba3dd096f3ed50cc1b895'), 'item': 'journal', 'qty': 25, 'size': {'h': 14, 'w': 21, 'uom': 'cm'}, 'status': 'A'}\n",
      "{'_id': ObjectId('668ba3dd096f3ed50cc1b896'), 'item': 'mat', 'qty': 85, 'size': {'h': 27.9, 'w': 35.5, 'uom': 'cm'}, 'status': 'A'}\n",
      "{'_id': ObjectId('668ba3dd096f3ed50cc1b897'), 'item': 'mousepad', 'qty': 25, 'size': {'h': 19, 'w': 22.85, 'uom': 'cm'}, 'status': 'P'}\n",
      "{'_id': ObjectId('668ba3dd096f3ed50cc1b898'), 'item': 'notebook', 'qty': 50, 'size': {'h': 8.5, 'w': 11, 'uom': 'in'}, 'status': 'P'}\n",
      "{'_id': ObjectId('668ba3dd096f3ed50cc1b899'), 'item': 'paper', 'qty': 100, 'size': {'h': 8.5, 'w': 11, 'uom': 'in'}, 'status': 'D'}\n",
      "{'_id': ObjectId('668ba3dd096f3ed50cc1b89a'), 'item': 'planner', 'qty': 75, 'size': {'h': 22.85, 'w': 30, 'uom': 'cm'}, 'status': 'D'}\n",
      "{'_id': ObjectId('668ba3dd096f3ed50cc1b89b'), 'item': 'postcard', 'qty': 45, 'size': {'h': 10, 'w': 15.25, 'uom': 'cm'}, 'status': 'A'}\n",
      "{'_id': ObjectId('668ba3dd096f3ed50cc1b89c'), 'item': 'sketchbook', 'qty': 80, 'size': {'h': 14, 'w': 21, 'uom': 'cm'}, 'status': 'A'}\n",
      "{'_id': ObjectId('668ba3dd096f3ed50cc1b89d'), 'item': 'sketch pad', 'qty': 95, 'size': {'h': 22.85, 'w': 30.5, 'uom': 'cm'}, 'status': 'A'}\n"
     ]
    }
   ],
   "source": [
    "for records in information.find({}):\n",
    "    print(records)"
   ]
  },
  {
   "cell_type": "markdown",
   "id": "cabb96f3",
   "metadata": {},
   "source": [
    "In `pymongo`, the methods `update_one()`, `update_many()`, and `replace_one()` are used to update or replace documents in a MongoDB collection. Here's a brief explanation of each method:\n",
    "\n",
    "### 1. `update_one(filter, update, upsert=False, bypass_document_validation=False, collation=None, array_filters=None, session=None)`\n",
    "- **Purpose**: Updates a single document that matches the specified filter criteria.\n",
    "- **Parameters**:\n",
    "  - `filter` (dict): Specifies the selection criteria for the document to update.\n",
    "  - `update` (dict or `collections.abc.Mapping`): Specifies the modifications to apply to the selected document.\n",
    "  - `upsert` (bool, optional): If `True`, creates a new document if no documents match the filter.\n",
    "  - `bypass_document_validation` (bool, optional): If `True`, allows the write operation to bypass document validation.\n",
    "  - `collation` (dict, optional): Specifies the collation to use for string comparisons.\n",
    "  - `array_filters` (list, optional): Filters the elements of an array that is part of the update operation.\n",
    "  - `session` (optional): A `ClientSession` object representing the session to use for the operation.\n",
    "- **Returns**: `pymongo.results.UpdateResult` object containing details about the update operation.\n",
    "\n",
    "### 2. `update_many(filter, update, upsert=False, bypass_document_validation=False, collation=None, array_filters=None, session=None)`\n",
    "- **Purpose**: Updates multiple documents that match the specified filter criteria.\n",
    "- **Parameters**:\n",
    "  - `filter` (dict): Specifies the selection criteria for the documents to update.\n",
    "  - `update` (dict or `collections.abc.Mapping`): Specifies the modifications to apply to the selected documents.\n",
    "  - `upsert` (bool, optional): If `True`, creates a new document if no documents match the filter.\n",
    "  - `bypass_document_validation` (bool, optional): If `True`, allows the write operation to bypass document validation.\n",
    "  - `collation` (dict, optional): Specifies the collation to use for string comparisons.\n",
    "  - `array_filters` (list, optional): Filters the elements of an array that is part of the update operation.\n",
    "  - `session` (optional): A `ClientSession` object representing the session to use for the operation.\n",
    "- **Returns**: `pymongo.results.UpdateResult` object containing details about the update operation.\n",
    "\n",
    "### 3. `replace_one(filter, replacement, upsert=False, bypass_document_validation=False, collation=None, session=None)`\n",
    "- **Purpose**: Replaces a single document that matches the specified filter criteria.\n",
    "- **Parameters**:\n",
    "  - `filter` (dict): Specifies the selection criteria for the document to replace.\n",
    "  - `replacement` (dict or `collections.abc.Mapping`): Specifies the replacement document.\n",
    "  - `upsert` (bool, optional): If `True`, creates a new document if no documents match the filter.\n",
    "  - `bypass_document_validation` (bool, optional): If `True`, allows the write operation to bypass document validation.\n",
    "  - `collation` (dict, optional): Specifies the collation to use for string comparisons.\n",
    "  - `session` (optional): A `ClientSession` object representing the session to use for the operation.\n",
    "- **Returns**: `pymongo.results.UpdateResult` object containing details about the update operation.\n",
    "\n",
    "### Common Parameters:\n",
    "- **Filter (`filter`)**: Specifies the criteria to identify which documents to update or replace.\n",
    "- **Update (`update` or `replacement`)**: Defines the modifications (`update`) or the entirely new document (`replacement`) to apply to the selected document(s).\n",
    "- **Upsert (`upsert`)**: Optional parameter that specifies whether to insert a new document if no documents match the filter criteria (`True` for insert if not exists).\n",
    "- **Bypass Document Validation (`bypass_document_validation`)**: Optional parameter to bypass document validation during the write operation (`True` to bypass validation).\n",
    "- **Collation (`collation`)**: Optional parameter that specifies language-specific rules for string comparison, useful for operations that compare string values.\n",
    "- **Array Filters (`array_filters`)**: Optional parameter to filter the elements of an array field for the update operation.\n",
    "- **Session (`session`)**: Optional parameter that represents a MongoDB session for the operation, useful for transactions and ensuring consistency.\n",
    "\n",
    "\n",
    "### Summary:\n",
    "- **`update_one()`**: Updates a single document matching the filter with specified modifications.\n",
    "- **`update_many()`**: Updates multiple documents matching the filter with specified modifications.\n",
    "- **`replace_one()`**: Replaces a single document matching the filter with the specified replacement document.\n",
    "\n",
    "These methods are essential for modifying data in MongoDB collections based on specific criteria and are foundational for CRUD (Create, Read, Update, Delete) operations in MongoDB using `pymongo`."
   ]
  },
  {
   "cell_type": "code",
   "execution_count": 9,
   "id": "ca06940d",
   "metadata": {},
   "outputs": [
    {
     "name": "stdout",
     "output_type": "stream",
     "text": [
      "{'_id': ObjectId('668ba3dd096f3ed50cc1b894'), 'item': 'canvas', 'qty': 100, 'size': {'h': 28, 'w': 35.5, 'uom': 'cm'}, 'status': 'A'}\n",
      "{'_id': ObjectId('668ba3dd096f3ed50cc1b895'), 'item': 'journal', 'qty': 25, 'size': {'h': 14, 'w': 21, 'uom': 'cm'}, 'status': 'A'}\n",
      "{'_id': ObjectId('668ba3dd096f3ed50cc1b896'), 'item': 'mat', 'qty': 85, 'size': {'h': 27.9, 'w': 35.5, 'uom': 'cm'}, 'status': 'A'}\n",
      "{'_id': ObjectId('668ba3dd096f3ed50cc1b897'), 'item': 'mousepad', 'qty': 25, 'size': {'h': 19, 'w': 22.85, 'uom': 'cm'}, 'status': 'P'}\n",
      "{'_id': ObjectId('668ba3dd096f3ed50cc1b898'), 'item': 'notebook', 'qty': 50, 'size': {'h': 8.5, 'w': 11, 'uom': 'in'}, 'status': 'P'}\n",
      "{'_id': ObjectId('668ba3dd096f3ed50cc1b899'), 'item': 'paper', 'qty': 100, 'size': {'h': 8.5, 'w': 11, 'uom': 'in'}, 'status': 'D'}\n",
      "{'_id': ObjectId('668ba3dd096f3ed50cc1b89a'), 'item': 'planner', 'qty': 75, 'size': {'h': 22.85, 'w': 30, 'uom': 'cm'}, 'status': 'D'}\n",
      "{'_id': ObjectId('668ba3dd096f3ed50cc1b89b'), 'item': 'postcard', 'qty': 45, 'size': {'h': 10, 'w': 15.25, 'uom': 'cm'}, 'status': 'A'}\n",
      "{'_id': ObjectId('668ba3dd096f3ed50cc1b89c'), 'item': 'sketchbook', 'qty': 80, 'size': {'h': 14, 'w': 21, 'uom': 'cm'}, 'status': 'A'}\n",
      "{'_id': ObjectId('668ba3dd096f3ed50cc1b89d'), 'item': 'sketch pad', 'qty': 3, 'size': {'h': 22.85, 'w': 30.5, 'uom': 'cm'}, 'status': 'Nil'}\n"
     ]
    }
   ],
   "source": [
    "# update_one()\n",
    "\n",
    "information.update_one({\"item\":\"sketch pad\"},{\"$set\":{\"qty\":3,\"status\":\"Nil\"}})\n",
    "\n",
    "# Check MongoDb Server or follwing python code\n",
    "\n",
    "for record in information.find({}):\n",
    "    print(record)"
   ]
  },
  {
   "cell_type": "code",
   "execution_count": 16,
   "id": "441601e7",
   "metadata": {},
   "outputs": [
    {
     "name": "stdout",
     "output_type": "stream",
     "text": [
      "{'_id': ObjectId('668ba3dd096f3ed50cc1b894'), 'item': 'canvas', 'qty': 100, 'size': {'h': 28, 'w': 35.5, 'uom': 'cm'}, 'status': 'A'}\n",
      "{'_id': ObjectId('668ba3dd096f3ed50cc1b895'), 'item': 'journal', 'qty': 25, 'size': {'h': 14, 'w': 21, 'uom': 'cm'}, 'status': 'A'}\n",
      "{'_id': ObjectId('668ba3dd096f3ed50cc1b896'), 'item': 'mat', 'qty': 85, 'size': {'h': 27.9, 'w': 35.5, 'uom': 'cm'}, 'status': 'A'}\n",
      "{'_id': ObjectId('668ba3dd096f3ed50cc1b897'), 'item': 'mousepad', 'qty': 25, 'size': {'h': 19, 'w': 22.85, 'uom': 'cm'}, 'status': 'P'}\n",
      "{'_id': ObjectId('668ba3dd096f3ed50cc1b898'), 'item': 'notebook', 'qty': 50, 'size': {'h': 20, 'w': 11, 'uom': 'in'}, 'status': 'P'}\n",
      "{'_id': ObjectId('668ba3dd096f3ed50cc1b899'), 'item': 'paper', 'qty': 100, 'size': {'h': 20, 'w': 11, 'uom': 'in'}, 'status': 'D'}\n",
      "{'_id': ObjectId('668ba3dd096f3ed50cc1b89a'), 'item': 'planner', 'qty': 75, 'size': {'h': 22.85, 'w': 30, 'uom': 'cm'}, 'status': 'D'}\n",
      "{'_id': ObjectId('668ba3dd096f3ed50cc1b89b'), 'item': 'postcard', 'qty': 45, 'size': {'h': 10, 'w': 15.25, 'uom': 'cm'}, 'status': 'A'}\n",
      "{'_id': ObjectId('668ba3dd096f3ed50cc1b89c'), 'item': 'sketchbook', 'qty': 80, 'size': {'h': 14, 'w': 21, 'uom': 'cm'}, 'status': 'A'}\n",
      "{'_id': ObjectId('668ba3dd096f3ed50cc1b89d'), 'item': 'sketch pad', 'qty': 3, 'size': {'h': 22.85, 'w': 30.5, 'uom': 'cm'}, 'status': 'Nil'}\n"
     ]
    }
   ],
   "source": [
    "# update_many()\n",
    "\n",
    "# Define the filter criteria for documents to update\n",
    "filter_criteria = {\n",
    "    \"$and\": [\n",
    "        {\"size.h\": {\"$lt\": 10}},\n",
    "        {\"size.w\": {\"$lt\": 10}}\n",
    "    ]\n",
    "}\n",
    "\n",
    "# Define the update operation\n",
    "update_operation = {\"$set\": {\"size.h\": 10}}\n",
    "\n",
    "# Use update_many to perform the update\n",
    "information.update_many(filter_criteria, update_operation)\n",
    "\n",
    "for record in information.find({}):\n",
    "    print(record)"
   ]
  },
  {
   "cell_type": "code",
   "execution_count": 19,
   "id": "fc077446",
   "metadata": {},
   "outputs": [
    {
     "name": "stdout",
     "output_type": "stream",
     "text": [
      "{'_id': ObjectId('668ba3dd096f3ed50cc1b899'), 'item': 'paper', 'instock': [{'warehouse': 'A', 'qty': 60}, {'warehouse': 'B', 'qty': 40}]}\n"
     ]
    }
   ],
   "source": [
    "# replace_one()\n",
    "\n",
    "information.replace_one(\n",
    "    {\"item\": \"paper\"},\n",
    "    {\"item\": \"paper\",\n",
    "     \"instock\": [\n",
    "         {\"warehouse\": \"A\", \"qty\": 60},\n",
    "         {\"warehouse\": \"B\", \"qty\": 40}]})\n",
    "\n",
    "for record in information.find({\"item\": \"paper\"}):\n",
    "    print(record)"
   ]
  },
  {
   "cell_type": "markdown",
   "id": "2b3cc48f",
   "metadata": {},
   "source": [
    "### Delete Documents\n",
    "- Delete One:Use delete_one to delete a single document that matches a specified condition\n",
    "- Delete Many:Use delete_many to delete multiple documents that match a specified condition"
   ]
  },
  {
   "cell_type": "code",
   "execution_count": 20,
   "id": "1e570f7e",
   "metadata": {},
   "outputs": [
    {
     "data": {
      "text/plain": [
       "DeleteResult({'n': 1, 'ok': 1.0}, acknowledged=True)"
      ]
     },
     "execution_count": 20,
     "metadata": {},
     "output_type": "execute_result"
    }
   ],
   "source": [
    "# delete_one()\n",
    "# information.delete_one(delete_filter)\n",
    "information.delete_one({'item': 'mousepad'})"
   ]
  },
  {
   "cell_type": "code",
   "execution_count": 21,
   "id": "d0565f3b",
   "metadata": {},
   "outputs": [
    {
     "name": "stdout",
     "output_type": "stream",
     "text": [
      "{'_id': ObjectId('668ba3dd096f3ed50cc1b894'), 'item': 'canvas', 'qty': 100, 'size': {'h': 28, 'w': 35.5, 'uom': 'cm'}, 'status': 'A'}\n",
      "{'_id': ObjectId('668ba3dd096f3ed50cc1b895'), 'item': 'journal', 'qty': 25, 'size': {'h': 14, 'w': 21, 'uom': 'cm'}, 'status': 'A'}\n",
      "{'_id': ObjectId('668ba3dd096f3ed50cc1b896'), 'item': 'mat', 'qty': 85, 'size': {'h': 27.9, 'w': 35.5, 'uom': 'cm'}, 'status': 'A'}\n",
      "{'_id': ObjectId('668ba3dd096f3ed50cc1b898'), 'item': 'notebook', 'qty': 50, 'size': {'h': 20, 'w': 11, 'uom': 'in'}, 'status': 'P'}\n",
      "{'_id': ObjectId('668ba3dd096f3ed50cc1b899'), 'item': 'paper', 'instock': [{'warehouse': 'A', 'qty': 60}, {'warehouse': 'B', 'qty': 40}]}\n",
      "{'_id': ObjectId('668ba3dd096f3ed50cc1b89a'), 'item': 'planner', 'qty': 75, 'size': {'h': 22.85, 'w': 30, 'uom': 'cm'}, 'status': 'D'}\n",
      "{'_id': ObjectId('668ba3dd096f3ed50cc1b89b'), 'item': 'postcard', 'qty': 45, 'size': {'h': 10, 'w': 15.25, 'uom': 'cm'}, 'status': 'A'}\n",
      "{'_id': ObjectId('668ba3dd096f3ed50cc1b89c'), 'item': 'sketchbook', 'qty': 80, 'size': {'h': 14, 'w': 21, 'uom': 'cm'}, 'status': 'A'}\n",
      "{'_id': ObjectId('668ba3dd096f3ed50cc1b89d'), 'item': 'sketch pad', 'qty': 3, 'size': {'h': 22.85, 'w': 30.5, 'uom': 'cm'}, 'status': 'Nil'}\n"
     ]
    }
   ],
   "source": [
    "for record in information.find({}):\n",
    "    print(record)"
   ]
  },
  {
   "cell_type": "code",
   "execution_count": 26,
   "id": "cbc4b144",
   "metadata": {},
   "outputs": [
    {
     "data": {
      "text/plain": [
       "DeleteResult({'n': 2, 'ok': 1.0}, acknowledged=True)"
      ]
     },
     "execution_count": 26,
     "metadata": {},
     "output_type": "execute_result"
    }
   ],
   "source": [
    "# delete_many()\n",
    "information.delete_many({\"$or\":[{'item': 'planner'},{'item': 'mat'}]}) # OR Operator used to delete"
   ]
  },
  {
   "cell_type": "code",
   "execution_count": 27,
   "id": "d4dde838",
   "metadata": {},
   "outputs": [
    {
     "name": "stdout",
     "output_type": "stream",
     "text": [
      "{'_id': ObjectId('668ba3dd096f3ed50cc1b894'), 'item': 'canvas', 'qty': 100, 'size': {'h': 28, 'w': 35.5, 'uom': 'cm'}, 'status': 'A'}\n",
      "{'_id': ObjectId('668ba3dd096f3ed50cc1b895'), 'item': 'journal', 'qty': 25, 'size': {'h': 14, 'w': 21, 'uom': 'cm'}, 'status': 'A'}\n",
      "{'_id': ObjectId('668ba3dd096f3ed50cc1b898'), 'item': 'notebook', 'qty': 50, 'size': {'h': 20, 'w': 11, 'uom': 'in'}, 'status': 'P'}\n",
      "{'_id': ObjectId('668ba3dd096f3ed50cc1b899'), 'item': 'paper', 'instock': [{'warehouse': 'A', 'qty': 60}, {'warehouse': 'B', 'qty': 40}]}\n",
      "{'_id': ObjectId('668ba3dd096f3ed50cc1b89b'), 'item': 'postcard', 'qty': 45, 'size': {'h': 10, 'w': 15.25, 'uom': 'cm'}, 'status': 'A'}\n",
      "{'_id': ObjectId('668ba3dd096f3ed50cc1b89c'), 'item': 'sketchbook', 'qty': 80, 'size': {'h': 14, 'w': 21, 'uom': 'cm'}, 'status': 'A'}\n",
      "{'_id': ObjectId('668ba3dd096f3ed50cc1b89d'), 'item': 'sketch pad', 'qty': 3, 'size': {'h': 22.85, 'w': 30.5, 'uom': 'cm'}, 'status': 'Nil'}\n"
     ]
    }
   ],
   "source": [
    "for record in information.find({}):\n",
    "    print(record)"
   ]
  },
  {
   "cell_type": "markdown",
   "id": "254a5fa7",
   "metadata": {},
   "source": [
    "### Update Own Json Key value:"
   ]
  },
  {
   "cell_type": "code",
   "execution_count": 30,
   "id": "4dee9476",
   "metadata": {},
   "outputs": [
    {
     "data": {
      "text/plain": [
       "UpdateResult({'n': 1, 'nModified': 1, 'ok': 1.0, 'updatedExisting': True}, acknowledged=True)"
      ]
     },
     "execution_count": 30,
     "metadata": {},
     "output_type": "execute_result"
    }
   ],
   "source": [
    "# update_one()\n",
    "information.update_one(\n",
    "{\"item\":\"sketch pad\"},\n",
    "{\"$currentDate\":{\"lastModified\":True}}\n",
    ")"
   ]
  },
  {
   "cell_type": "code",
   "execution_count": 31,
   "id": "8453df8f",
   "metadata": {},
   "outputs": [
    {
     "name": "stdout",
     "output_type": "stream",
     "text": [
      "{'_id': ObjectId('668ba3dd096f3ed50cc1b89d'), 'item': 'sketch pad', 'qty': 3, 'size': {'h': 22.85, 'w': 30.5, 'uom': 'cm'}, 'status': 'Nil', 'lastModified': datetime.datetime(2024, 7, 8, 9, 13, 4, 382000)}\n"
     ]
    }
   ],
   "source": [
    "for record in information.find({\"item\":\"sketch pad\"}):\n",
    "    print(record) # lastModified key added"
   ]
  },
  {
   "cell_type": "code",
   "execution_count": 35,
   "id": "9bfca873",
   "metadata": {},
   "outputs": [
    {
     "data": {
      "text/plain": [
       "UpdateResult({'n': 2, 'nModified': 2, 'ok': 1.0, 'updatedExisting': True}, acknowledged=True)"
      ]
     },
     "execution_count": 35,
     "metadata": {},
     "output_type": "execute_result"
    }
   ],
   "source": [
    "# update_many()\n",
    "information.update_many(\n",
    "    {\n",
    "        \"qty\": {\"$in\": [50, 100]}\n",
    "    },\n",
    "    {\n",
    "        \"$set\": {\n",
    "            \"size.uom\": \"mm\",\n",
    "            \"status\": \"P\"\n",
    "        },\n",
    "        \"$currentDate\": {\n",
    "            \"lastModified\": True\n",
    "        }\n",
    "    }\n",
    ")\n"
   ]
  },
  {
   "cell_type": "code",
   "execution_count": 36,
   "id": "028b1383",
   "metadata": {},
   "outputs": [
    {
     "name": "stdout",
     "output_type": "stream",
     "text": [
      "{'_id': ObjectId('668ba3dd096f3ed50cc1b894'), 'item': 'canvas', 'qty': 100, 'size': {'h': 28, 'w': 35.5, 'uom': 'mm'}, 'status': 'P', 'lastModified': datetime.datetime(2024, 7, 8, 9, 19, 6, 419000)}\n",
      "{'_id': ObjectId('668ba3dd096f3ed50cc1b895'), 'item': 'journal', 'qty': 25, 'size': {'h': 14, 'w': 21, 'uom': 'cm'}, 'status': 'A'}\n",
      "{'_id': ObjectId('668ba3dd096f3ed50cc1b898'), 'item': 'notebook', 'qty': 50, 'size': {'h': 20, 'w': 11, 'uom': 'mm'}, 'status': 'P', 'lastModified': datetime.datetime(2024, 7, 8, 9, 19, 6, 419000)}\n",
      "{'_id': ObjectId('668ba3dd096f3ed50cc1b899'), 'item': 'paper', 'instock': [{'warehouse': 'A', 'qty': 60}, {'warehouse': 'B', 'qty': 40}]}\n",
      "{'_id': ObjectId('668ba3dd096f3ed50cc1b89b'), 'item': 'postcard', 'qty': 45, 'size': {'h': 10, 'w': 15.25, 'uom': 'cm'}, 'status': 'A'}\n",
      "{'_id': ObjectId('668ba3dd096f3ed50cc1b89c'), 'item': 'sketchbook', 'qty': 80, 'size': {'h': 14, 'w': 21, 'uom': 'cm'}, 'status': 'A'}\n",
      "{'_id': ObjectId('668ba3dd096f3ed50cc1b89d'), 'item': 'sketch pad', 'qty': 3, 'size': {'h': 22.85, 'w': 30.5, 'uom': 'cm'}, 'status': 'Nil', 'lastModified': datetime.datetime(2024, 7, 8, 9, 13, 4, 382000)}\n"
     ]
    }
   ],
   "source": [
    "for record in information.find({}):\n",
    "    print(record)"
   ]
  },
  {
   "cell_type": "markdown",
   "id": "0d5c5ea3",
   "metadata": {},
   "source": [
    "#### Prepared By,\n",
    "Ahamed Basith"
   ]
  },
  {
   "cell_type": "code",
   "execution_count": null,
   "id": "66cdf8f6",
   "metadata": {},
   "outputs": [],
   "source": []
  }
 ],
 "metadata": {
  "kernelspec": {
   "display_name": "Python 3 (ipykernel)",
   "language": "python",
   "name": "python3"
  },
  "language_info": {
   "codemirror_mode": {
    "name": "ipython",
    "version": 3
   },
   "file_extension": ".py",
   "mimetype": "text/x-python",
   "name": "python",
   "nbconvert_exporter": "python",
   "pygments_lexer": "ipython3",
   "version": "3.11.5"
  }
 },
 "nbformat": 4,
 "nbformat_minor": 5
}
