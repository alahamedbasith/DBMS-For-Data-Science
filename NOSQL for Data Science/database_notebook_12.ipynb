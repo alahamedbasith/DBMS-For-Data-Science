{
 "cells": [
  {
   "cell_type": "markdown",
   "id": "9ab0fd5f",
   "metadata": {},
   "source": [
    "# 12. MongoDB and Querying JSON\n",
    "## 1. Connect MongoDB to Python"
   ]
  },
  {
   "cell_type": "code",
   "execution_count": 1,
   "id": "b40b2ad2",
   "metadata": {},
   "outputs": [
    {
     "name": "stdout",
     "output_type": "stream",
     "text": [
      "Collecting pymongo\n",
      "  Obtaining dependency information for pymongo from https://files.pythonhosted.org/packages/51/28/577224211f43e2079126bfec53080efba46e59218f47808098f125139558/pymongo-4.8.0-cp311-cp311-win_amd64.whl.metadata\n",
      "  Downloading pymongo-4.8.0-cp311-cp311-win_amd64.whl.metadata (22 kB)\n",
      "Collecting dnspython<3.0.0,>=1.16.0 (from pymongo)\n",
      "  Obtaining dependency information for dnspython<3.0.0,>=1.16.0 from https://files.pythonhosted.org/packages/87/a1/8c5287991ddb8d3e4662f71356d9656d91ab3a36618c3dd11b280df0d255/dnspython-2.6.1-py3-none-any.whl.metadata\n",
      "  Downloading dnspython-2.6.1-py3-none-any.whl.metadata (5.8 kB)\n",
      "Downloading pymongo-4.8.0-cp311-cp311-win_amd64.whl (630 kB)\n",
      "   ---------------------------------------- 0.0/631.0 kB ? eta -:--:--\n",
      "    --------------------------------------- 10.2/631.0 kB ? eta -:--:--\n",
      "   -- ------------------------------------ 41.0/631.0 kB 653.6 kB/s eta 0:00:01\n",
      "   ----- --------------------------------- 81.9/631.0 kB 770.8 kB/s eta 0:00:01\n",
      "   ------ ------------------------------- 112.6/631.0 kB 731.4 kB/s eta 0:00:01\n",
      "   --------- ---------------------------- 163.8/631.0 kB 821.4 kB/s eta 0:00:01\n",
      "   ------------- ------------------------ 225.3/631.0 kB 860.2 kB/s eta 0:00:01\n",
      "   -------------- ----------------------- 245.8/631.0 kB 838.1 kB/s eta 0:00:01\n",
      "   ----------------- -------------------- 286.7/631.0 kB 842.9 kB/s eta 0:00:01\n",
      "   --------------------- ---------------- 358.4/631.0 kB 892.7 kB/s eta 0:00:01\n",
      "   ------------------------ ------------- 409.6/631.0 kB 913.9 kB/s eta 0:00:01\n",
      "   -------------------------- ----------- 440.3/631.0 kB 949.4 kB/s eta 0:00:01\n",
      "   ----------------------------- -------- 491.5/631.0 kB 906.4 kB/s eta 0:00:01\n",
      "   -------------------------------- ----- 532.5/631.0 kB 929.3 kB/s eta 0:00:01\n",
      "   ------------------------------------ - 604.2/631.0 kB 975.2 kB/s eta 0:00:01\n",
      "   -------------------------------------- 631.0/631.0 kB 946.3 kB/s eta 0:00:00\n",
      "Downloading dnspython-2.6.1-py3-none-any.whl (307 kB)\n",
      "   ---------------------------------------- 0.0/307.7 kB ? eta -:--:--\n",
      "   ---------------------------------------- 0.0/307.7 kB ? eta -:--:--\n",
      "   - -------------------------------------- 10.2/307.7 kB ? eta -:--:--\n",
      "   - -------------------------------------- 10.2/307.7 kB ? eta -:--:--\n",
      "   ----- --------------------------------- 41.0/307.7 kB 393.8 kB/s eta 0:00:01\n",
      "   ----------- --------------------------- 92.2/307.7 kB 585.1 kB/s eta 0:00:01\n",
      "   --------------- ---------------------- 122.9/307.7 kB 602.4 kB/s eta 0:00:01\n",
      "   --------------- ---------------------- 122.9/307.7 kB 602.4 kB/s eta 0:00:01\n",
      "   ---------------- --------------------- 133.1/307.7 kB 413.7 kB/s eta 0:00:01\n",
      "   ------------------------ ------------- 194.6/307.7 kB 562.0 kB/s eta 0:00:01\n",
      "   ------------------------------ ------- 245.8/307.7 kB 684.7 kB/s eta 0:00:01\n",
      "   -------------------------------------  307.2/307.7 kB 703.7 kB/s eta 0:00:01\n",
      "   -------------------------------------- 307.7/307.7 kB 656.6 kB/s eta 0:00:00\n",
      "Installing collected packages: dnspython, pymongo\n",
      "Successfully installed dnspython-2.6.1 pymongo-4.8.0\n"
     ]
    }
   ],
   "source": [
    "# First Install Pymongo\n",
    "\n",
    "! Pip install pymongo"
   ]
  },
  {
   "cell_type": "code",
   "execution_count": 2,
   "id": "cff9b8ee",
   "metadata": {},
   "outputs": [],
   "source": [
    "import pymongo\n",
    "\n",
    "client = pymongo.MongoClient(\"mongodb://localhost:27017/\") # Paste the local host where the mogodb server run"
   ]
  },
  {
   "cell_type": "code",
   "execution_count": 3,
   "id": "cedde93e",
   "metadata": {},
   "outputs": [],
   "source": [
    "mydb = client['employee']"
   ]
  },
  {
   "cell_type": "code",
   "execution_count": 6,
   "id": "7976ae79",
   "metadata": {},
   "outputs": [
    {
     "name": "stdout",
     "output_type": "stream",
     "text": [
      "Collection(Database(MongoClient(host=['localhost:27017'], document_class=dict, tz_aware=False, connect=True), 'employee'), 'collection')\n"
     ]
    }
   ],
   "source": [
    "# Access my collection\n",
    "collection = mydb.collection # the collection naming is our wish\n",
    "print(collection)"
   ]
  },
  {
   "cell_type": "code",
   "execution_count": 8,
   "id": "e576f958",
   "metadata": {},
   "outputs": [],
   "source": [
    "record = {\n",
    "        \"user_id\": 1,\n",
    "        \"name\": \"John Doe\",\n",
    "        \"email\": \"john.doe@example.com\",\n",
    "        \"age\": 30,\n",
    "        \"address\": {\n",
    "            \"street\": \"123 Main St\",\n",
    "            \"city\": \"Anytown\",\n",
    "            \"state\": \"CA\",\n",
    "            \"zip\": \"12345\"\n",
    "        },\n",
    "        \"interests\": [\"reading\", \"traveling\", \"swimming\"]\n",
    "}"
   ]
  },
  {
   "cell_type": "code",
   "execution_count": 9,
   "id": "c9a3a3cd",
   "metadata": {},
   "outputs": [
    {
     "data": {
      "text/plain": [
       "InsertOneResult(ObjectId('668b808a854f3d5e6661a0b6'), acknowledged=True)"
      ]
     },
     "execution_count": 9,
     "metadata": {},
     "output_type": "execute_result"
    }
   ],
   "source": [
    "# Insert one record\n",
    "collection.insert_one(record)"
   ]
  },
  {
   "cell_type": "code",
   "execution_count": 15,
   "id": "206714f4",
   "metadata": {},
   "outputs": [],
   "source": [
    "records = [\n",
    "    {\n",
    "        \"product_id\": \"1001\",\n",
    "        \"name\": \"Laptop\",\n",
    "        \"brand\": \"Brand A\",\n",
    "        \"price\": 899.99,\n",
    "        \"in_stock\": True,\n",
    "        \"specs\": {\n",
    "            \"processor\": \"Intel i7\",\n",
    "            \"ram\": \"16GB\",\n",
    "            \"storage\": \"512GB SSD\"\n",
    "        }\n",
    "    },\n",
    "    {\n",
    "        \"product_id\": \"1002\",\n",
    "        \"name\": \"Smartphone\",\n",
    "        \"brand\": \"Brand B\",\n",
    "        \"price\": 499.99,\n",
    "        \"in_stock\": False,\n",
    "        \"specs\": {\n",
    "            \"processor\": \"Snapdragon 888\",\n",
    "            \"ram\": \"8GB\",\n",
    "            \"storage\": \"256GB\"\n",
    "        }\n",
    "    }\n",
    "]"
   ]
  },
  {
   "cell_type": "code",
   "execution_count": 16,
   "id": "bebc4860",
   "metadata": {},
   "outputs": [
    {
     "data": {
      "text/plain": [
       "InsertManyResult([ObjectId('668b818c854f3d5e6661a0b9'), ObjectId('668b818c854f3d5e6661a0ba')], acknowledged=True)"
      ]
     },
     "execution_count": 16,
     "metadata": {},
     "output_type": "execute_result"
    }
   ],
   "source": [
    "# Insert one record\n",
    "collection.insert_many(records)"
   ]
  },
  {
   "cell_type": "code",
   "execution_count": 20,
   "id": "f62ecd2e",
   "metadata": {},
   "outputs": [
    {
     "data": {
      "text/plain": [
       "{'_id': ObjectId('668b763b99239d44c9cc8988'), 'firstname': 'Ahamed'}"
      ]
     },
     "execution_count": 20,
     "metadata": {},
     "output_type": "execute_result"
    }
   ],
   "source": [
    "# Find one record\n",
    "collection.find_one() # Find top first record "
   ]
  },
  {
   "cell_type": "code",
   "execution_count": 21,
   "id": "50e26830",
   "metadata": {},
   "outputs": [
    {
     "data": {
      "text/plain": [
       "<pymongo.cursor.Cursor at 0x25b3b01f790>"
      ]
     },
     "execution_count": 21,
     "metadata": {},
     "output_type": "execute_result"
    }
   ],
   "source": [
    "# Find many record\n",
    "collection.find() # It returns the cursor "
   ]
  },
  {
   "cell_type": "code",
   "execution_count": 24,
   "id": "906348f2",
   "metadata": {},
   "outputs": [
    {
     "name": "stdout",
     "output_type": "stream",
     "text": [
      "{'_id': ObjectId('668b763b99239d44c9cc8988'), 'firstname': 'Ahamed'}\n",
      "{'_id': ObjectId('668b770b99239d44c9cc8989'), 'firstname': 'Ahamed', 'Lastname': 'Basith'}\n",
      "{'_id': ObjectId('668b770b99239d44c9cc898a'), 'Firstname': 'Najim'}\n",
      "{'_id': ObjectId('668b776899239d44c9cc898b'), 'firstname': 'Ahamed', 'Lastname': 'Basith'}\n",
      "{'_id': ObjectId('668b776899239d44c9cc898c'), 'Firstname': 'Najim'}\n",
      "{'_id': ObjectId('668b808a854f3d5e6661a0b6'), 'user_id': 1, 'name': 'John Doe', 'email': 'john.doe@example.com', 'age': 30, 'address': {'street': '123 Main St', 'city': 'Anytown', 'state': 'CA', 'zip': '12345'}, 'interests': ['reading', 'traveling', 'swimming']}\n",
      "{'_id': ObjectId('668b812d854f3d5e6661a0b7'), 'product_id': '1001', 'name': 'Laptop', 'brand': 'Brand A', 'price': 899.99, 'in_stock': True, 'specs': {'processor': 'Intel i7', 'ram': '16GB', 'storage': '512GB SSD'}}\n",
      "{'_id': ObjectId('668b812d854f3d5e6661a0b8'), 'product_id': '1002', 'name': 'Smartphone', 'brand': 'Brand B', 'price': 499.99, 'in_stock': False, 'specs': {'processor': 'Snapdragon 888', 'ram': '8GB', 'storage': '256GB'}}\n",
      "{'_id': ObjectId('668b818c854f3d5e6661a0b9'), 'product_id': '1001', 'name': 'Laptop', 'brand': 'Brand A', 'price': 899.99, 'in_stock': True, 'specs': {'processor': 'Intel i7', 'ram': '16GB', 'storage': '512GB SSD'}}\n",
      "{'_id': ObjectId('668b818c854f3d5e6661a0ba'), 'product_id': '1002', 'name': 'Smartphone', 'brand': 'Brand B', 'price': 499.99, 'in_stock': False, 'specs': {'processor': 'Snapdragon 888', 'ram': '8GB', 'storage': '256GB'}}\n"
     ]
    }
   ],
   "source": [
    "# So the find method returns cursor object.The cursor means single row execution.\n",
    "# Therefore we need to use loops to get the data\n",
    "# Its like SELECT * FROM employee\n",
    "for record in collection.find():\n",
    "    print(record) # Note a not strict schema in output"
   ]
  },
  {
   "cell_type": "code",
   "execution_count": 25,
   "id": "0a6551f8",
   "metadata": {},
   "outputs": [
    {
     "name": "stdout",
     "output_type": "stream",
     "text": [
      "{'_id': ObjectId('668b763b99239d44c9cc8988'), 'firstname': 'Ahamed'}\n",
      "{'_id': ObjectId('668b770b99239d44c9cc8989'), 'firstname': 'Ahamed', 'Lastname': 'Basith'}\n",
      "{'_id': ObjectId('668b770b99239d44c9cc898a'), 'Firstname': 'Najim'}\n",
      "{'_id': ObjectId('668b776899239d44c9cc898b'), 'firstname': 'Ahamed', 'Lastname': 'Basith'}\n",
      "{'_id': ObjectId('668b776899239d44c9cc898c'), 'Firstname': 'Najim'}\n",
      "{'_id': ObjectId('668b808a854f3d5e6661a0b6'), 'user_id': 1, 'name': 'John Doe', 'email': 'john.doe@example.com', 'age': 30, 'address': {'street': '123 Main St', 'city': 'Anytown', 'state': 'CA', 'zip': '12345'}, 'interests': ['reading', 'traveling', 'swimming']}\n",
      "{'_id': ObjectId('668b812d854f3d5e6661a0b7'), 'product_id': '1001', 'name': 'Laptop', 'brand': 'Brand A', 'price': 899.99, 'in_stock': True, 'specs': {'processor': 'Intel i7', 'ram': '16GB', 'storage': '512GB SSD'}}\n",
      "{'_id': ObjectId('668b812d854f3d5e6661a0b8'), 'product_id': '1002', 'name': 'Smartphone', 'brand': 'Brand B', 'price': 499.99, 'in_stock': False, 'specs': {'processor': 'Snapdragon 888', 'ram': '8GB', 'storage': '256GB'}}\n",
      "{'_id': ObjectId('668b818c854f3d5e6661a0b9'), 'product_id': '1001', 'name': 'Laptop', 'brand': 'Brand A', 'price': 899.99, 'in_stock': True, 'specs': {'processor': 'Intel i7', 'ram': '16GB', 'storage': '512GB SSD'}}\n",
      "{'_id': ObjectId('668b818c854f3d5e6661a0ba'), 'product_id': '1002', 'name': 'Smartphone', 'brand': 'Brand B', 'price': 499.99, 'in_stock': False, 'specs': {'processor': 'Snapdragon 888', 'ram': '8GB', 'storage': '256GB'}}\n"
     ]
    }
   ],
   "source": [
    "# This also applicable\n",
    "for record in collection.find({}):\n",
    "    print(record)"
   ]
  },
  {
   "cell_type": "markdown",
   "id": "db397903",
   "metadata": {},
   "source": [
    "## 2.Querying JSON Documents"
   ]
  },
  {
   "cell_type": "code",
   "execution_count": 27,
   "id": "59d9146f",
   "metadata": {},
   "outputs": [
    {
     "name": "stdout",
     "output_type": "stream",
     "text": [
      "{'_id': ObjectId('668b763b99239d44c9cc8988'), 'firstname': 'Ahamed'}\n",
      "{'_id': ObjectId('668b770b99239d44c9cc8989'), 'firstname': 'Ahamed', 'Lastname': 'Basith'}\n",
      "{'_id': ObjectId('668b776899239d44c9cc898b'), 'firstname': 'Ahamed', 'Lastname': 'Basith'}\n"
     ]
    }
   ],
   "source": [
    "# Query the json documents based on the equality conditions\n",
    "# Its like SELECT * FROM EMPLOYEE WHERE firstname = \"Ahamed\" in MySQL\n",
    "\n",
    "for record in collection.find({\"firstname\":\"Ahamed\"}):\n",
    "    print(record)"
   ]
  },
  {
   "cell_type": "markdown",
   "id": "1ed3ad0f",
   "metadata": {},
   "source": [
    "Sure! Here are simple definitions for each of the MongoDB query operators:\n",
    "\n",
    "### 1. **Equality (`$eq`)**\n",
    "Finds documents where the field is equal to the specified value.\n",
    "```python\n",
    "{\"name\": {\"$eq\": \"John\"}}\n",
    "```\n",
    "\n",
    "### 2. **Comparison Operators**\n",
    "- **Greater Than (`$gt`)**: Finds documents where the field is greater than the specified value.\n",
    "  ```python\n",
    "  {\"age\": {\"$gt\": 30}}\n",
    "  ```\n",
    "- **Less Than (`$lt`)**: Finds documents where the field is less than the specified value.\n",
    "  ```python\n",
    "  {\"age\": {\"$lt\": 30}}\n",
    "  ```\n",
    "- **Greater Than or Equal (`$gte`)**: Finds documents where the field is greater than or equal to the specified value.\n",
    "  ```python\n",
    "  {\"age\": {\"$gte\": 30}}\n",
    "  ```\n",
    "- **Less Than or Equal (`$lte`)**: Finds documents where the field is less than or equal to the specified value.\n",
    "  ```python\n",
    "  {\"age\": {\"$lte\": 30}}\n",
    "  ```\n",
    "\n",
    "### 3. **Logical Operators**\n",
    "- **AND (`$and`)**: Finds documents that match all the conditions.\n",
    "  ```python\n",
    "  {\"$and\": [{\"age\": {\"$gt\": 25}}, {\"age\": {\"$lt\": 35}}]}\n",
    "  ```\n",
    "- **OR (`$or`)**: Finds documents that match any of the conditions.\n",
    "  ```python\n",
    "  {\"$or\": [{\"age\": {\"$lt\": 20}}, {\"age\": {\"$gt\": 50}}]}\n",
    "  ```\n",
    "\n",
    "### 4. **Element Operators**\n",
    "- **Exists (`$exists`)**: Finds documents where the field exists (or does not exist).\n",
    "  ```python\n",
    "  {\"email\": {\"$exists\": True}}\n",
    "  ```\n",
    "- **Type (`$type`)**: Finds documents where the field is of the specified type.\n",
    "  ```python\n",
    "  {\"age\": {\"$type\": \"int\"}}\n",
    "  ```\n",
    "\n",
    "### 5. **Array Operators**\n",
    "- **In (`$in`)**: Finds documents where the field's value is in the specified array.\n",
    "  ```python\n",
    "  {\"favorite_colors\": {\"$in\": [\"red\", \"blue\"]}}\n",
    "  ```\n",
    "- **Not In (`$nin`)**: Finds documents where the field's value is not in the specified array.\n",
    "  ```python\n",
    "  {\"favorite_colors\": {\"$nin\": [\"yellow\", \"green\"]}}\n",
    "  ```\n",
    "- **All (`$all`)**: Finds documents where the field contains all the specified elements.\n",
    "  ```python\n",
    "  {\"favorite_colors\": {\"$all\": [\"red\", \"blue\"]}}\n",
    "  ```"
   ]
  },
  {
   "cell_type": "code",
   "execution_count": 37,
   "id": "9abf10e9",
   "metadata": {},
   "outputs": [
    {
     "name": "stdout",
     "output_type": "stream",
     "text": [
      "{'_id': ObjectId('668b763b99239d44c9cc8988'), 'firstname': 'Ahamed'}\n",
      "{'_id': ObjectId('668b770b99239d44c9cc8989'), 'firstname': 'Ahamed', 'Lastname': 'Basith'}\n",
      "{'_id': ObjectId('668b776899239d44c9cc898b'), 'firstname': 'Ahamed', 'Lastname': 'Basith'}\n"
     ]
    }
   ],
   "source": [
    "# Query documents using query operators\n",
    "\n",
    "# 1.Equality ($eq)\n",
    "for record in collection.find({\"firstname\": {\"$eq\":\"Ahamed\"}}):\n",
    "    print(record)"
   ]
  },
  {
   "cell_type": "code",
   "execution_count": 40,
   "id": "f3d0eb15",
   "metadata": {},
   "outputs": [
    {
     "name": "stdout",
     "output_type": "stream",
     "text": [
      "{'_id': ObjectId('668b812d854f3d5e6661a0b7'), 'product_id': '1001', 'name': 'Laptop', 'brand': 'Brand A', 'price': 899.99, 'in_stock': True, 'specs': {'processor': 'Intel i7', 'ram': '16GB', 'storage': '512GB SSD'}}\n",
      "{'_id': ObjectId('668b818c854f3d5e6661a0b9'), 'product_id': '1001', 'name': 'Laptop', 'brand': 'Brand A', 'price': 899.99, 'in_stock': True, 'specs': {'processor': 'Intel i7', 'ram': '16GB', 'storage': '512GB SSD'}}\n"
     ]
    }
   ],
   "source": [
    "# 2. Comparison Operators\n",
    "# gt (Greater than)\n",
    "\n",
    "for record in collection.find({\"price\": {\"$gt\": 500}}):\n",
    "    print(record)"
   ]
  },
  {
   "cell_type": "code",
   "execution_count": 75,
   "id": "82e44732",
   "metadata": {},
   "outputs": [
    {
     "name": "stdout",
     "output_type": "stream",
     "text": [
      "{'_id': ObjectId('668b812d854f3d5e6661a0b7'), 'product_id': '1001', 'name': 'Laptop', 'brand': 'Brand A', 'price': 899.99, 'in_stock': True, 'specs': {'processor': 'Intel i7', 'ram': '16GB', 'storage': '512GB SSD'}}\n",
      "{'_id': ObjectId('668b818c854f3d5e6661a0b9'), 'product_id': '1001', 'name': 'Laptop', 'brand': 'Brand A', 'price': 899.99, 'in_stock': True, 'specs': {'processor': 'Intel i7', 'ram': '16GB', 'storage': '512GB SSD'}}\n"
     ]
    }
   ],
   "source": [
    "# Nested querying also applicable\n",
    "for record in collection.find({\"price\":{\"$gt\":300},\"specs.ram\":\"16GB\"}):\n",
    "    print(record)"
   ]
  },
  {
   "cell_type": "code",
   "execution_count": 73,
   "id": "3f37b17e",
   "metadata": {},
   "outputs": [
    {
     "name": "stdout",
     "output_type": "stream",
     "text": [
      "{'_id': ObjectId('668b812d854f3d5e6661a0b8'), 'product_id': '1002', 'name': 'Smartphone', 'brand': 'Brand B', 'price': 499.99, 'in_stock': False, 'specs': {'processor': 'Snapdragon 888', 'ram': '8GB', 'storage': '256GB'}}\n",
      "{'_id': ObjectId('668b818c854f3d5e6661a0ba'), 'product_id': '1002', 'name': 'Smartphone', 'brand': 'Brand B', 'price': 499.99, 'in_stock': False, 'specs': {'processor': 'Snapdragon 888', 'ram': '8GB', 'storage': '256GB'}}\n"
     ]
    }
   ],
   "source": [
    "# lt (lesser than)\n",
    "\n",
    "for record in collection.find({\"price\": {\"$lt\": 500}}):\n",
    "    print(record)"
   ]
  },
  {
   "cell_type": "code",
   "execution_count": 42,
   "id": "dcc3ba3a",
   "metadata": {},
   "outputs": [
    {
     "name": "stdout",
     "output_type": "stream",
     "text": [
      "{'_id': ObjectId('668b812d854f3d5e6661a0b7'), 'product_id': '1001', 'name': 'Laptop', 'brand': 'Brand A', 'price': 899.99, 'in_stock': True, 'specs': {'processor': 'Intel i7', 'ram': '16GB', 'storage': '512GB SSD'}}\n",
      "{'_id': ObjectId('668b812d854f3d5e6661a0b8'), 'product_id': '1002', 'name': 'Smartphone', 'brand': 'Brand B', 'price': 499.99, 'in_stock': False, 'specs': {'processor': 'Snapdragon 888', 'ram': '8GB', 'storage': '256GB'}}\n",
      "{'_id': ObjectId('668b818c854f3d5e6661a0b9'), 'product_id': '1001', 'name': 'Laptop', 'brand': 'Brand A', 'price': 899.99, 'in_stock': True, 'specs': {'processor': 'Intel i7', 'ram': '16GB', 'storage': '512GB SSD'}}\n",
      "{'_id': ObjectId('668b818c854f3d5e6661a0ba'), 'product_id': '1002', 'name': 'Smartphone', 'brand': 'Brand B', 'price': 499.99, 'in_stock': False, 'specs': {'processor': 'Snapdragon 888', 'ram': '8GB', 'storage': '256GB'}}\n"
     ]
    }
   ],
   "source": [
    "# gte (Greater than or equal to)\n",
    "\n",
    "for record in collection.find({\"price\": {\"$gte\": 499.99}}):\n",
    "    print(record)"
   ]
  },
  {
   "cell_type": "code",
   "execution_count": 43,
   "id": "7a9902fb",
   "metadata": {},
   "outputs": [
    {
     "name": "stdout",
     "output_type": "stream",
     "text": [
      "{'_id': ObjectId('668b812d854f3d5e6661a0b8'), 'product_id': '1002', 'name': 'Smartphone', 'brand': 'Brand B', 'price': 499.99, 'in_stock': False, 'specs': {'processor': 'Snapdragon 888', 'ram': '8GB', 'storage': '256GB'}}\n",
      "{'_id': ObjectId('668b818c854f3d5e6661a0ba'), 'product_id': '1002', 'name': 'Smartphone', 'brand': 'Brand B', 'price': 499.99, 'in_stock': False, 'specs': {'processor': 'Snapdragon 888', 'ram': '8GB', 'storage': '256GB'}}\n"
     ]
    }
   ],
   "source": [
    "# lte (lesser than or equal to)\n",
    "\n",
    "for record in collection.find({\"price\": {\"$lte\": 499.99}}):\n",
    "    print(record)"
   ]
  },
  {
   "cell_type": "code",
   "execution_count": 44,
   "id": "396ed70e",
   "metadata": {},
   "outputs": [
    {
     "name": "stdout",
     "output_type": "stream",
     "text": [
      "{'_id': ObjectId('668b812d854f3d5e6661a0b7'), 'product_id': '1001', 'name': 'Laptop', 'brand': 'Brand A', 'price': 899.99, 'in_stock': True, 'specs': {'processor': 'Intel i7', 'ram': '16GB', 'storage': '512GB SSD'}}\n",
      "{'_id': ObjectId('668b818c854f3d5e6661a0b9'), 'product_id': '1001', 'name': 'Laptop', 'brand': 'Brand A', 'price': 899.99, 'in_stock': True, 'specs': {'processor': 'Intel i7', 'ram': '16GB', 'storage': '512GB SSD'}}\n"
     ]
    }
   ],
   "source": [
    "# 3. Logical Operators\n",
    "# AND ($and)\n",
    "\n",
    "for record in collection.find({\"$and\":[{\"price\":{\"$gt\":500}},{\"brand\":{\"$eq\":\"Brand A\"}}]}):\n",
    "    print(record)"
   ]
  },
  {
   "cell_type": "code",
   "execution_count": 47,
   "id": "79e5003a",
   "metadata": {},
   "outputs": [
    {
     "name": "stdout",
     "output_type": "stream",
     "text": [
      "{'_id': ObjectId('668b812d854f3d5e6661a0b7'), 'product_id': '1001', 'name': 'Laptop', 'brand': 'Brand A', 'price': 899.99, 'in_stock': True, 'specs': {'processor': 'Intel i7', 'ram': '16GB', 'storage': '512GB SSD'}}\n",
      "{'_id': ObjectId('668b812d854f3d5e6661a0b8'), 'product_id': '1002', 'name': 'Smartphone', 'brand': 'Brand B', 'price': 499.99, 'in_stock': False, 'specs': {'processor': 'Snapdragon 888', 'ram': '8GB', 'storage': '256GB'}}\n",
      "{'_id': ObjectId('668b818c854f3d5e6661a0b9'), 'product_id': '1001', 'name': 'Laptop', 'brand': 'Brand A', 'price': 899.99, 'in_stock': True, 'specs': {'processor': 'Intel i7', 'ram': '16GB', 'storage': '512GB SSD'}}\n",
      "{'_id': ObjectId('668b818c854f3d5e6661a0ba'), 'product_id': '1002', 'name': 'Smartphone', 'brand': 'Brand B', 'price': 499.99, 'in_stock': False, 'specs': {'processor': 'Snapdragon 888', 'ram': '8GB', 'storage': '256GB'}}\n"
     ]
    }
   ],
   "source": [
    "# OR ($or)\n",
    "\n",
    "for record in collection.find({\"$or\":[{\"price\":{\"$gt\":500}},{\"brand\":{\"$eq\":\"Brand B\"}}]}):\n",
    "    print(record)"
   ]
  },
  {
   "cell_type": "code",
   "execution_count": 50,
   "id": "d39be1d3",
   "metadata": {},
   "outputs": [
    {
     "name": "stdout",
     "output_type": "stream",
     "text": [
      "{'_id': ObjectId('668b812d854f3d5e6661a0b7'), 'product_id': '1001', 'name': 'Laptop', 'brand': 'Brand A', 'price': 899.99, 'in_stock': True, 'specs': {'processor': 'Intel i7', 'ram': '16GB', 'storage': '512GB SSD'}}\n",
      "{'_id': ObjectId('668b812d854f3d5e6661a0b8'), 'product_id': '1002', 'name': 'Smartphone', 'brand': 'Brand B', 'price': 499.99, 'in_stock': False, 'specs': {'processor': 'Snapdragon 888', 'ram': '8GB', 'storage': '256GB'}}\n",
      "{'_id': ObjectId('668b818c854f3d5e6661a0b9'), 'product_id': '1001', 'name': 'Laptop', 'brand': 'Brand A', 'price': 899.99, 'in_stock': True, 'specs': {'processor': 'Intel i7', 'ram': '16GB', 'storage': '512GB SSD'}}\n",
      "{'_id': ObjectId('668b818c854f3d5e6661a0ba'), 'product_id': '1002', 'name': 'Smartphone', 'brand': 'Brand B', 'price': 499.99, 'in_stock': False, 'specs': {'processor': 'Snapdragon 888', 'ram': '8GB', 'storage': '256GB'}}\n"
     ]
    }
   ],
   "source": [
    "# 4. Element Operators\n",
    "# Exists ($exists)\n",
    "\n",
    "for record in collection.find({\"price\": {\"$exists\": True}}):\n",
    "    print(record)"
   ]
  },
  {
   "cell_type": "code",
   "execution_count": 51,
   "id": "21f096c9",
   "metadata": {},
   "outputs": [
    {
     "name": "stdout",
     "output_type": "stream",
     "text": [
      "{'_id': ObjectId('668b763b99239d44c9cc8988'), 'firstname': 'Ahamed'}\n",
      "{'_id': ObjectId('668b770b99239d44c9cc8989'), 'firstname': 'Ahamed', 'Lastname': 'Basith'}\n",
      "{'_id': ObjectId('668b770b99239d44c9cc898a'), 'Firstname': 'Najim'}\n",
      "{'_id': ObjectId('668b776899239d44c9cc898b'), 'firstname': 'Ahamed', 'Lastname': 'Basith'}\n",
      "{'_id': ObjectId('668b776899239d44c9cc898c'), 'Firstname': 'Najim'}\n",
      "{'_id': ObjectId('668b808a854f3d5e6661a0b6'), 'user_id': 1, 'name': 'John Doe', 'email': 'john.doe@example.com', 'age': 30, 'address': {'street': '123 Main St', 'city': 'Anytown', 'state': 'CA', 'zip': '12345'}, 'interests': ['reading', 'traveling', 'swimming']}\n"
     ]
    }
   ],
   "source": [
    "for record in collection.find({\"price\": {\"$exists\": False}}):\n",
    "    print(record)"
   ]
  },
  {
   "cell_type": "code",
   "execution_count": 59,
   "id": "d9c35c92",
   "metadata": {},
   "outputs": [
    {
     "name": "stdout",
     "output_type": "stream",
     "text": [
      "{'_id': ObjectId('668b812d854f3d5e6661a0b7'), 'product_id': '1001', 'name': 'Laptop', 'brand': 'Brand A', 'price': 899.99, 'in_stock': True, 'specs': {'processor': 'Intel i7', 'ram': '16GB', 'storage': '512GB SSD'}}\n",
      "{'_id': ObjectId('668b812d854f3d5e6661a0b8'), 'product_id': '1002', 'name': 'Smartphone', 'brand': 'Brand B', 'price': 499.99, 'in_stock': False, 'specs': {'processor': 'Snapdragon 888', 'ram': '8GB', 'storage': '256GB'}}\n",
      "{'_id': ObjectId('668b818c854f3d5e6661a0b9'), 'product_id': '1001', 'name': 'Laptop', 'brand': 'Brand A', 'price': 899.99, 'in_stock': True, 'specs': {'processor': 'Intel i7', 'ram': '16GB', 'storage': '512GB SSD'}}\n",
      "{'_id': ObjectId('668b818c854f3d5e6661a0ba'), 'product_id': '1002', 'name': 'Smartphone', 'brand': 'Brand B', 'price': 499.99, 'in_stock': False, 'specs': {'processor': 'Snapdragon 888', 'ram': '8GB', 'storage': '256GB'}}\n"
     ]
    }
   ],
   "source": [
    "# Type ($type)\n",
    "\n",
    "from bson.int64 import Int64\n",
    "# Make sure you have imported Int64 from bson.int64 to ensure compatibility with MongoDB's BSON type codes.\n",
    "for record in collection.find({\"price\": {\"$type\": Int64(1)}}):\n",
    "    print(record)"
   ]
  },
  {
   "cell_type": "markdown",
   "id": "461819f9",
   "metadata": {},
   "source": [
    "## 3.list of BSON type codes used in MongoDB along with their corresponding integer values:\n",
    "\n",
    "1. **Double (floating point)**\n",
    "   - BSON Type Code: 1\n",
    "   - Python Type: float\n",
    "\n",
    "2. **String**\n",
    "   - BSON Type Code: 2\n",
    "   - Python Type: str\n",
    "\n",
    "3. **Object**\n",
    "   - BSON Type Code: 3\n",
    "   - Python Type: dict\n",
    "\n",
    "4. **Array**\n",
    "   - BSON Type Code: 4\n",
    "   - Python Type: list\n",
    "\n",
    "5. **Binary data**\n",
    "   - BSON Type Code: 5\n",
    "   - Python Type: bytes\n",
    "\n",
    "6. **Undefined (deprecated)**\n",
    "   - BSON Type Code: 6\n",
    "   - Python Type: None\n",
    "\n",
    "7. **Object id**\n",
    "   - BSON Type Code: 7\n",
    "   - Python Type: bson.ObjectId (from `bson` module)\n",
    "\n",
    "8. **Boolean**\n",
    "   - BSON Type Code: 8\n",
    "   - Python Type: bool\n",
    "\n",
    "9. **Date**\n",
    "   - BSON Type Code: 9\n",
    "   - Python Type: datetime.datetime\n",
    "\n",
    "10. **Null**\n",
    "    - BSON Type Code: 10\n",
    "    - Python Type: None\n",
    "\n",
    "11. **Regular Expression**\n",
    "    - BSON Type Code: 11\n",
    "    - Python Type: bson.regex.Regex (from `bson` module)\n",
    "\n",
    "12. **DBPointer (deprecated)**\n",
    "    - BSON Type Code: 12\n",
    "    - Python Type: Not directly supported in Python driver\n",
    "\n",
    "13. **JavaScript Code**\n",
    "    - BSON Type Code: 13\n",
    "    - Python Type: str\n",
    "\n",
    "14. **Symbol (deprecated)**\n",
    "    - BSON Type Code: 14\n",
    "    - Python Type: str\n",
    "\n",
    "15. **JavaScript Code with Scope**\n",
    "    - BSON Type Code: 15\n",
    "    - Python Type: bson.code.Code (from `bson` module)\n",
    "\n",
    "16. **32-bit Integer**\n",
    "    - BSON Type Code: 16\n",
    "    - Python Type: int\n",
    "\n",
    "17. **Timestamp**\n",
    "    - BSON Type Code: 17\n",
    "    - Python Type: bson.timestamp.Timestamp (from `bson` module)\n",
    "\n",
    "18. **64-bit Integer**\n",
    "    - BSON Type Code: 18\n",
    "    - Python Type: int\n",
    "\n",
    "19. **Decimal128**\n",
    "    - BSON Type Code: 19\n",
    "    - Python Type: bson.decimal128.Decimal128 (from `bson` module)\n",
    "\n",
    "20. **Min key**\n",
    "    - BSON Type Code: -1\n",
    "    - Represents the minimum key value in a BSON object\n",
    "\n",
    "21. **Max key**\n",
    "    - BSON Type Code: 127\n",
    "    - Represents the maximum key value in a BSON object\n",
    "\n",
    "These BSON types are used to serialize and deserialize data in MongoDB. When querying using `pymongo` with `$type`, you should use these BSON type codes to specify the data type of fields you are querying against."
   ]
  },
  {
   "cell_type": "code",
   "execution_count": 76,
   "id": "6bb2c0c3",
   "metadata": {},
   "outputs": [
    {
     "name": "stdout",
     "output_type": "stream",
     "text": [
      "{'_id': ObjectId('668b812d854f3d5e6661a0b7'), 'product_id': '1001', 'name': 'Laptop', 'brand': 'Brand A', 'price': 899.99, 'in_stock': True, 'specs': {'processor': 'Intel i7', 'ram': '16GB', 'storage': '512GB SSD'}}\n",
      "{'_id': ObjectId('668b812d854f3d5e6661a0b8'), 'product_id': '1002', 'name': 'Smartphone', 'brand': 'Brand B', 'price': 499.99, 'in_stock': False, 'specs': {'processor': 'Snapdragon 888', 'ram': '8GB', 'storage': '256GB'}}\n",
      "{'_id': ObjectId('668b818c854f3d5e6661a0b9'), 'product_id': '1001', 'name': 'Laptop', 'brand': 'Brand A', 'price': 899.99, 'in_stock': True, 'specs': {'processor': 'Intel i7', 'ram': '16GB', 'storage': '512GB SSD'}}\n",
      "{'_id': ObjectId('668b818c854f3d5e6661a0ba'), 'product_id': '1002', 'name': 'Smartphone', 'brand': 'Brand B', 'price': 499.99, 'in_stock': False, 'specs': {'processor': 'Snapdragon 888', 'ram': '8GB', 'storage': '256GB'}}\n"
     ]
    }
   ],
   "source": [
    "# 5. Array Operators\n",
    "\n",
    "# In ($in)\n",
    "\n",
    "for record in collection.find({\"price\": {\"$in\": [499.99,899.99]}}):\n",
    "    print(record)"
   ]
  },
  {
   "cell_type": "code",
   "execution_count": 77,
   "id": "f77c6d61",
   "metadata": {},
   "outputs": [
    {
     "name": "stdout",
     "output_type": "stream",
     "text": [
      "{'_id': ObjectId('668b763b99239d44c9cc8988'), 'firstname': 'Ahamed'}\n",
      "{'_id': ObjectId('668b770b99239d44c9cc8989'), 'firstname': 'Ahamed', 'Lastname': 'Basith'}\n",
      "{'_id': ObjectId('668b770b99239d44c9cc898a'), 'Firstname': 'Najim'}\n",
      "{'_id': ObjectId('668b776899239d44c9cc898b'), 'firstname': 'Ahamed', 'Lastname': 'Basith'}\n",
      "{'_id': ObjectId('668b776899239d44c9cc898c'), 'Firstname': 'Najim'}\n",
      "{'_id': ObjectId('668b808a854f3d5e6661a0b6'), 'user_id': 1, 'name': 'John Doe', 'email': 'john.doe@example.com', 'age': 30, 'address': {'street': '123 Main St', 'city': 'Anytown', 'state': 'CA', 'zip': '12345'}, 'interests': ['reading', 'traveling', 'swimming']}\n"
     ]
    }
   ],
   "source": [
    "# Not In ($nin)\n",
    "\n",
    "for record in collection.find({\"price\": {\"$nin\": [499.99,899.99]}}):\n",
    "    print(record)"
   ]
  },
  {
   "cell_type": "code",
   "execution_count": 81,
   "id": "28b8c8bd",
   "metadata": {},
   "outputs": [],
   "source": [
    "# All ($all)\n",
    "for record in collection.find({\"price\": {\"$all\": [499.99,899.99]}}):\n",
    "    print(record) # return None because price not present in all"
   ]
  },
  {
   "cell_type": "code",
   "execution_count": 83,
   "id": "c616bfba",
   "metadata": {},
   "outputs": [
    {
     "name": "stdout",
     "output_type": "stream",
     "text": [
      "{'_id': ObjectId('668b812d854f3d5e6661a0b7'), 'product_id': '1001', 'name': 'Laptop', 'brand': 'Brand A', 'price': 899.99, 'in_stock': True, 'specs': {'processor': 'Intel i7', 'ram': '16GB', 'storage': '512GB SSD'}}\n",
      "{'_id': ObjectId('668b818c854f3d5e6661a0b9'), 'product_id': '1001', 'name': 'Laptop', 'brand': 'Brand A', 'price': 899.99, 'in_stock': True, 'specs': {'processor': 'Intel i7', 'ram': '16GB', 'storage': '512GB SSD'}}\n"
     ]
    }
   ],
   "source": [
    "## Find nested documents\n",
    "for record in collection.find({'specs': {'processor': 'Intel i7', 'ram': '16GB', 'storage': '512GB SSD'}}):\n",
    "    print(record)"
   ]
  },
  {
   "cell_type": "markdown",
   "id": "44773cd6",
   "metadata": {},
   "source": [
    "## 4.Difference between JSON and BSON:\n",
    "JSON (JavaScript Object Notation) and BSON (Binary JSON) are both data formats used for representing structured data in a human-readable and machine-readable format, but they differ in their features and implementations:\n",
    "\n",
    "### JSON (JavaScript Object Notation)\n",
    "\n",
    "1. **Text-Based Format**:\n",
    "   - **Format**: JSON is a lightweight, text-based data interchange format.\n",
    "   - **Human-Readable**: Designed to be easily readable by humans and easily parsed by machines.\n",
    "   - **Example**:\n",
    "     ```json\n",
    "     {\n",
    "       \"name\": \"John Doe\",\n",
    "       \"age\": 30,\n",
    "       \"city\": \"New York\"\n",
    "     }\n",
    "     ```\n",
    "\n",
    "2. **Data Types**:\n",
    "   - **Supported Types**: JSON supports basic data types such as strings, numbers, booleans, arrays, and objects.\n",
    "   - **Limitations**: Does not natively support more complex data types like dates or binary data.\n",
    "\n",
    "3. **Usage**:\n",
    "   - **Web-Based**: Widely used in web applications for data exchange between client and server.\n",
    "   - **Compatibility**: Supported by most programming languages with built-in libraries for parsing and generating JSON.\n",
    "\n",
    "### BSON (Binary JSON)\n",
    "\n",
    "1. **Binary Format**:\n",
    "   - **Format**: BSON is a binary-encoded serialization of JSON-like documents.\n",
    "   - **Efficiency**: Designed for efficient storage and traversal of JSON-like documents in MongoDB and other systems.\n",
    "   - **Example**: BSON is not typically viewed directly since it's binary, but it structures data similarly to JSON.\n",
    "\n",
    "2. **Extended Data Types**:\n",
    "   - **Additional Types**: BSON extends JSON by supporting additional data types such as `Date`, `Binary data`, and `ObjectId`.\n",
    "   - **Efficiency**: Compact binary representation allows for efficient storage and retrieval.\n",
    "\n",
    "3. **Usage**:\n",
    "   - **Database Storage**: BSON is used primarily in databases like MongoDB to store and manipulate document-based data efficiently.\n",
    "   - **Serialization**: BSON documents are serialized and deserialized directly by MongoDB drivers, optimizing performance.\n",
    "\n",
    "### Key Differences\n",
    "\n",
    "- **Binary vs. Text**: JSON is a text-based format, while BSON is a binary format.\n",
    "- **Data Types**: BSON supports more data types natively (e.g., dates, binary data) compared to JSON.\n",
    "- **Efficiency**: BSON is more efficient for storage and traversal in databases like MongoDB due to its binary encoding.\n",
    "- **Compatibility**: JSON is widely supported across various platforms and programming languages, whereas BSON is specific to MongoDB and some other systems.\n",
    "\n",
    "### When to Use Each\n",
    "- **JSON**: Use for data interchange between systems or for configuration files where human readability is important.\n",
    "- **BSON**: Use in MongoDB or other database systems that support BSON for efficient storage and querying of JSON-like documents, especially in document-oriented databases.\n",
    "\n",
    "Understanding these differences helps in choosing the appropriate format based on your application's requirements, whether it involves efficient database operations, data interchange, or compatibility across systems."
   ]
  },
  {
   "cell_type": "markdown",
   "id": "88227e8d",
   "metadata": {},
   "source": [
    "#### Prepared By,\n",
    "Ahamed Basith"
   ]
  },
  {
   "cell_type": "code",
   "execution_count": null,
   "id": "899fd72e",
   "metadata": {},
   "outputs": [],
   "source": []
  }
 ],
 "metadata": {
  "kernelspec": {
   "display_name": "Python 3 (ipykernel)",
   "language": "python",
   "name": "python3"
  },
  "language_info": {
   "codemirror_mode": {
    "name": "ipython",
    "version": 3
   },
   "file_extension": ".py",
   "mimetype": "text/x-python",
   "name": "python",
   "nbconvert_exporter": "python",
   "pygments_lexer": "ipython3",
   "version": "3.11.5"
  }
 },
 "nbformat": 4,
 "nbformat_minor": 5
}
