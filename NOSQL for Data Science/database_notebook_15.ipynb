{
 "cells": [
  {
   "cell_type": "markdown",
   "id": "b54714fc",
   "metadata": {},
   "source": [
    "# 15.Geospatial Queries in MongoDB\n",
    "\n",
    "### Main Concepts:\n",
    "\n",
    "1. **Geospatial Queries**:\n",
    "   - Allow querying data based on location.\n",
    "   - Supported by MongoDB.\n",
    "\n",
    "2. **GeoJSON Format**:\n",
    "   - A format used to store geospatial data in MongoDB.\n",
    "   - Types of GeoJSON objects: Point, LineString, Polygon, MultiPoint, MultiLineString, MultiPolygon.\n",
    "   - Each type has specific structure and requirements.\n",
    "\n",
    "### Types of GeoJSON Objects:\n",
    "\n",
    "1. **Point**:\n",
    "   - Single point represented by latitude and longitude.\n",
    "   - Example: `{ type: \"Point\", coordinates: [ longitude, latitude ] }`\n",
    "\n",
    "2. **LineString**:\n",
    "   - Line represented by two or more coordinates joining two points.\n",
    "   - Example: `{ type: \"LineString\", coordinates: [ [ longitude1, latitude1 ], [ longitude2, latitude2 ] ] }`\n",
    "\n",
    "3. **Polygon**:\n",
    "   - Shape represented by multiple points.\n",
    "   - Example: `{ type: \"Polygon\", coordinates: [ [ longitude1, latitude1 ], [ longitude2, latitude2 ],... ] }`\n",
    "\n",
    "### Saving GeoJSON Data in MongoDB:\n",
    "\n",
    "1. **Format**:\n",
    "   - Use GeoJSON format.\n",
    "   - Specify type of GeoJSON object and coordinates.\n",
    "\n",
    "### Indexing Geospatial Data:\n",
    "\n",
    "1. **Types of Indexing**:\n",
    "   - **2d Sphere Indexing**: For spherical coordinates (e.g., globe).\n",
    "   - **2d Flat Indexing**: For flat coordinates (e.g., map).\n",
    "\n",
    "### Example of Saving GeoJSON Data:\n",
    "\n",
    "- Using `db.places.insertOne()` method.\n",
    "- Data saved with a name and location (GeoJSON point with coordinates).\n",
    "\n",
    "### Key Points:\n",
    "\n",
    "1. **Geospatial Queries**:\n",
    "   - Used to find locations near a specific point.\n",
    "   - Represent locations as points on a 2D sphere or flat surface.\n",
    "\n",
    "2. **Near Operator**:\n",
    "   - Finds locations near a specific point.\n",
    "   - Requires a geometry object with GeoJSON data and coordinates (longitude and latitude).\n",
    "   - Can specify distance range with `maxDistance` and `minDistance` options.\n",
    "   - Distances calculated in meters.\n",
    "   - Returns locations within the specified distance range.\n",
    "\n",
    "3. **Indexing for Efficient Querying**:\n",
    "   - Create an index for the geospatial field using the `createIndex` method with the `2dsphere` option.\n",
    "\n",
    "### Applications:\n",
    "\n",
    "- Geospatial queries can be used to find nearby points of interest, such as restaurants near a user's location."
   ]
  },
  {
   "cell_type": "markdown",
   "id": "a73b443e",
   "metadata": {},
   "source": [
    "### `$near`\n",
    "\n",
    "- **Definition**: The `$near` operator selects documents based on their proximity to a specified point.\n",
    "- **Usage**: It finds documents near a given point in a 2D spherical coordinate system (like the Earth's surface).\n",
    "- **GeoJSON Format**: Specify the point using GeoJSON format with `type: \"Point\"` and `coordinates: [longitude, latitude]`.\n",
    "- **Example**: Find all points within a certain distance from a central point.\n",
    "\n",
    "### `$geoWithin`\n",
    "\n",
    "- **Definition**: The `$geoWithin` operator selects documents with geospatial data that falls entirely within a specified geometry.\n",
    "- **Usage**: It checks if the geometry field (like a point, line, or polygon) is within a specified shape (like a polygon or circle).\n",
    "- **GeoJSON Format**: Define the shape using GeoJSON format with `type` (e.g., `\"Polygon\"`, `\"Circle\"`), and `coordinates`.\n",
    "- **Example**: Find all points or shapes contained within a specified polygon or boundary.\n",
    "\n"
   ]
  },
  {
   "cell_type": "markdown",
   "id": "de9be287",
   "metadata": {},
   "source": [
    "### Wroking with points"
   ]
  },
  {
   "cell_type": "code",
   "execution_count": 12,
   "id": "87a5615d",
   "metadata": {},
   "outputs": [
    {
     "data": {
      "text/plain": [
       "InsertOneResult(ObjectId('668e34db5ebe7e7915cce456'), acknowledged=True)"
      ]
     },
     "execution_count": 12,
     "metadata": {},
     "output_type": "execute_result"
    }
   ],
   "source": [
    "from pymongo import MongoClient  \n",
    "    \n",
    "# Creation of object MongoClient  \n",
    "client = MongoClient()  \n",
    "    \n",
    "# Connect with the port number and host  \n",
    "client = MongoClient(\"mongodb://localhost:27017/\")  \n",
    "    \n",
    "# Access database  \n",
    "mydatabase = client['Geospace']  \n",
    "    \n",
    "# Access collection of the database  \n",
    "collection = mydatabase['Locations']  \n",
    "\n",
    "# Define the data\n",
    "data = {\n",
    "    \"name\": \"Ahamed Cabs\",\n",
    "    \"location\": {\n",
    "        \"type\": \"Point\",\n",
    "        \"coordinates\": [\n",
    "            8.9989476,   # Latitude first\n",
    "            77.2213398  # Longitude second\n",
    "            \n",
    "        ]\n",
    "    }\n",
    "}\n",
    "\n",
    "# Insert the data into the collection\n",
    "collection.insert_one(data)"
   ]
  },
  {
   "cell_type": "code",
   "execution_count": 3,
   "id": "e19c73d4",
   "metadata": {},
   "outputs": [
    {
     "data": {
      "text/plain": [
       "{'_id': ObjectId('668e31065ebe7e7915cce452'),\n",
       " 'name': 'Ahamed Cabs',\n",
       " 'location': {'type': 'Point', 'coordinates': [77.2213398, 8.9989476]}}"
      ]
     },
     "execution_count": 3,
     "metadata": {},
     "output_type": "execute_result"
    }
   ],
   "source": [
    "collection.find_one()"
   ]
  },
  {
   "cell_type": "code",
   "execution_count": 6,
   "id": "64e3edb1",
   "metadata": {},
   "outputs": [],
   "source": [
    "nearby_locations = collection.find({\n",
    "    \"location\": {\n",
    "        \"$near\": {\n",
    "            \"$geometry\": {\n",
    "                \"type\": \"Point\",\n",
    "                \"coordinates\": [\n",
    "                    8.9989476,    # Latitude first\n",
    "                    77.2213398  # Longitude second\n",
    "                ]\n",
    "            }\n",
    "        }\n",
    "    }\n",
    "})"
   ]
  },
  {
   "cell_type": "code",
   "execution_count": 7,
   "id": "498038dd",
   "metadata": {},
   "outputs": [
    {
     "ename": "OperationFailure",
     "evalue": "error processing query: ns=Geospace.LocationsTree: GEONEAR  field=location maxdist=1.79769e+308 isNearSphere=0\nSort: {}\nProj: {}\n planner returned error :: caused by :: unable to find index for $geoNear query, full error: {'ok': 0.0, 'errmsg': 'error processing query: ns=Geospace.LocationsTree: GEONEAR  field=location maxdist=1.79769e+308 isNearSphere=0\\nSort: {}\\nProj: {}\\n planner returned error :: caused by :: unable to find index for $geoNear query', 'code': 291, 'codeName': 'NoQueryExecutionPlans'}",
     "output_type": "error",
     "traceback": [
      "\u001b[1;31m---------------------------------------------------------------------------\u001b[0m",
      "\u001b[1;31mOperationFailure\u001b[0m                          Traceback (most recent call last)",
      "Cell \u001b[1;32mIn[7], line 1\u001b[0m\n\u001b[1;32m----> 1\u001b[0m \u001b[38;5;28;01mfor\u001b[39;00m location \u001b[38;5;129;01min\u001b[39;00m nearby_locations:\n\u001b[0;32m      2\u001b[0m     \u001b[38;5;28mprint\u001b[39m(location)\n",
      "File \u001b[1;32mC:\\Anaconda\\Lib\\site-packages\\pymongo\\cursor.py:1243\u001b[0m, in \u001b[0;36mCursor.next\u001b[1;34m(self)\u001b[0m\n\u001b[0;32m   1241\u001b[0m \u001b[38;5;28;01mif\u001b[39;00m \u001b[38;5;28mself\u001b[39m\u001b[38;5;241m.\u001b[39m__empty:\n\u001b[0;32m   1242\u001b[0m     \u001b[38;5;28;01mraise\u001b[39;00m \u001b[38;5;167;01mStopIteration\u001b[39;00m\n\u001b[1;32m-> 1243\u001b[0m \u001b[38;5;28;01mif\u001b[39;00m \u001b[38;5;28mlen\u001b[39m(\u001b[38;5;28mself\u001b[39m\u001b[38;5;241m.\u001b[39m__data) \u001b[38;5;129;01mor\u001b[39;00m \u001b[38;5;28mself\u001b[39m\u001b[38;5;241m.\u001b[39m_refresh():\n\u001b[0;32m   1244\u001b[0m     \u001b[38;5;28;01mreturn\u001b[39;00m \u001b[38;5;28mself\u001b[39m\u001b[38;5;241m.\u001b[39m__data\u001b[38;5;241m.\u001b[39mpopleft()\n\u001b[0;32m   1245\u001b[0m \u001b[38;5;28;01melse\u001b[39;00m:\n",
      "File \u001b[1;32mC:\\Anaconda\\Lib\\site-packages\\pymongo\\cursor.py:1160\u001b[0m, in \u001b[0;36mCursor._refresh\u001b[1;34m(self)\u001b[0m\n\u001b[0;32m   1138\u001b[0m         \u001b[38;5;28;01mraise\u001b[39;00m InvalidOperation(\n\u001b[0;32m   1139\u001b[0m             \u001b[38;5;124m\"\u001b[39m\u001b[38;5;124mPassing a \u001b[39m\u001b[38;5;124m'\u001b[39m\u001b[38;5;124mhint\u001b[39m\u001b[38;5;124m'\u001b[39m\u001b[38;5;124m is required when using the min/max query\u001b[39m\u001b[38;5;124m\"\u001b[39m\n\u001b[0;32m   1140\u001b[0m             \u001b[38;5;124m\"\u001b[39m\u001b[38;5;124m option to ensure the query utilizes the correct index\u001b[39m\u001b[38;5;124m\"\u001b[39m\n\u001b[0;32m   1141\u001b[0m         )\n\u001b[0;32m   1142\u001b[0m     q \u001b[38;5;241m=\u001b[39m \u001b[38;5;28mself\u001b[39m\u001b[38;5;241m.\u001b[39m_query_class(\n\u001b[0;32m   1143\u001b[0m         \u001b[38;5;28mself\u001b[39m\u001b[38;5;241m.\u001b[39m__query_flags,\n\u001b[0;32m   1144\u001b[0m         \u001b[38;5;28mself\u001b[39m\u001b[38;5;241m.\u001b[39m__collection\u001b[38;5;241m.\u001b[39mdatabase\u001b[38;5;241m.\u001b[39mname,\n\u001b[1;32m   (...)\u001b[0m\n\u001b[0;32m   1158\u001b[0m         \u001b[38;5;28mself\u001b[39m\u001b[38;5;241m.\u001b[39m__exhaust,\n\u001b[0;32m   1159\u001b[0m     )\n\u001b[1;32m-> 1160\u001b[0m     \u001b[38;5;28mself\u001b[39m\u001b[38;5;241m.\u001b[39m__send_message(q)\n\u001b[0;32m   1161\u001b[0m \u001b[38;5;28;01melif\u001b[39;00m \u001b[38;5;28mself\u001b[39m\u001b[38;5;241m.\u001b[39m__id:  \u001b[38;5;66;03m# Get More\u001b[39;00m\n\u001b[0;32m   1162\u001b[0m     \u001b[38;5;28;01mif\u001b[39;00m \u001b[38;5;28mself\u001b[39m\u001b[38;5;241m.\u001b[39m__limit:\n",
      "File \u001b[1;32mC:\\Anaconda\\Lib\\site-packages\\pymongo\\cursor.py:1039\u001b[0m, in \u001b[0;36mCursor.__send_message\u001b[1;34m(self, operation)\u001b[0m\n\u001b[0;32m   1036\u001b[0m     \u001b[38;5;28;01mraise\u001b[39;00m InvalidOperation(\u001b[38;5;124m\"\u001b[39m\u001b[38;5;124mexhaust cursors do not support auto encryption\u001b[39m\u001b[38;5;124m\"\u001b[39m)\n\u001b[0;32m   1038\u001b[0m \u001b[38;5;28;01mtry\u001b[39;00m:\n\u001b[1;32m-> 1039\u001b[0m     response \u001b[38;5;241m=\u001b[39m client\u001b[38;5;241m.\u001b[39m_run_operation(\n\u001b[0;32m   1040\u001b[0m         operation, \u001b[38;5;28mself\u001b[39m\u001b[38;5;241m.\u001b[39m_unpack_response, address\u001b[38;5;241m=\u001b[39m\u001b[38;5;28mself\u001b[39m\u001b[38;5;241m.\u001b[39m__address\n\u001b[0;32m   1041\u001b[0m     )\n\u001b[0;32m   1042\u001b[0m \u001b[38;5;28;01mexcept\u001b[39;00m OperationFailure \u001b[38;5;28;01mas\u001b[39;00m exc:\n\u001b[0;32m   1043\u001b[0m     \u001b[38;5;28;01mif\u001b[39;00m exc\u001b[38;5;241m.\u001b[39mcode \u001b[38;5;129;01min\u001b[39;00m _CURSOR_CLOSED_ERRORS \u001b[38;5;129;01mor\u001b[39;00m \u001b[38;5;28mself\u001b[39m\u001b[38;5;241m.\u001b[39m__exhaust:\n\u001b[0;32m   1044\u001b[0m         \u001b[38;5;66;03m# Don't send killCursors because the cursor is already closed.\u001b[39;00m\n",
      "File \u001b[1;32mC:\\Anaconda\\Lib\\site-packages\\pymongo\\_csot.py:108\u001b[0m, in \u001b[0;36mapply.<locals>.csot_wrapper\u001b[1;34m(self, *args, **kwargs)\u001b[0m\n\u001b[0;32m    106\u001b[0m         \u001b[38;5;28;01mwith\u001b[39;00m _TimeoutContext(timeout):\n\u001b[0;32m    107\u001b[0m             \u001b[38;5;28;01mreturn\u001b[39;00m func(\u001b[38;5;28mself\u001b[39m, \u001b[38;5;241m*\u001b[39margs, \u001b[38;5;241m*\u001b[39m\u001b[38;5;241m*\u001b[39mkwargs)\n\u001b[1;32m--> 108\u001b[0m \u001b[38;5;28;01mreturn\u001b[39;00m func(\u001b[38;5;28mself\u001b[39m, \u001b[38;5;241m*\u001b[39margs, \u001b[38;5;241m*\u001b[39m\u001b[38;5;241m*\u001b[39mkwargs)\n",
      "File \u001b[1;32mC:\\Anaconda\\Lib\\site-packages\\pymongo\\mongo_client.py:1431\u001b[0m, in \u001b[0;36mMongoClient._run_operation\u001b[1;34m(self, operation, unpack_res, address)\u001b[0m\n\u001b[0;32m   1421\u001b[0m     operation\u001b[38;5;241m.\u001b[39mreset()  \u001b[38;5;66;03m# Reset op in case of retry.\u001b[39;00m\n\u001b[0;32m   1422\u001b[0m     \u001b[38;5;28;01mreturn\u001b[39;00m server\u001b[38;5;241m.\u001b[39mrun_operation(\n\u001b[0;32m   1423\u001b[0m         conn,\n\u001b[0;32m   1424\u001b[0m         operation,\n\u001b[1;32m   (...)\u001b[0m\n\u001b[0;32m   1428\u001b[0m         \u001b[38;5;28mself\u001b[39m,\n\u001b[0;32m   1429\u001b[0m     )\n\u001b[1;32m-> 1431\u001b[0m \u001b[38;5;28;01mreturn\u001b[39;00m \u001b[38;5;28mself\u001b[39m\u001b[38;5;241m.\u001b[39m_retryable_read(\n\u001b[0;32m   1432\u001b[0m     _cmd,\n\u001b[0;32m   1433\u001b[0m     operation\u001b[38;5;241m.\u001b[39mread_preference,\n\u001b[0;32m   1434\u001b[0m     operation\u001b[38;5;241m.\u001b[39msession,\n\u001b[0;32m   1435\u001b[0m     address\u001b[38;5;241m=\u001b[39maddress,\n\u001b[0;32m   1436\u001b[0m     retryable\u001b[38;5;241m=\u001b[39m\u001b[38;5;28misinstance\u001b[39m(operation, message\u001b[38;5;241m.\u001b[39m_Query),\n\u001b[0;32m   1437\u001b[0m     operation\u001b[38;5;241m=\u001b[39moperation\u001b[38;5;241m.\u001b[39mname,\n\u001b[0;32m   1438\u001b[0m )\n",
      "File \u001b[1;32mC:\\Anaconda\\Lib\\site-packages\\pymongo\\mongo_client.py:1540\u001b[0m, in \u001b[0;36mMongoClient._retryable_read\u001b[1;34m(self, func, read_pref, session, operation, address, retryable, operation_id)\u001b[0m\n\u001b[0;32m   1535\u001b[0m \u001b[38;5;66;03m# Ensure that the client supports retrying on reads and there is no session in\u001b[39;00m\n\u001b[0;32m   1536\u001b[0m \u001b[38;5;66;03m# transaction, otherwise, we will not support retry behavior for this call.\u001b[39;00m\n\u001b[0;32m   1537\u001b[0m retryable \u001b[38;5;241m=\u001b[39m \u001b[38;5;28mbool\u001b[39m(\n\u001b[0;32m   1538\u001b[0m     retryable \u001b[38;5;129;01mand\u001b[39;00m \u001b[38;5;28mself\u001b[39m\u001b[38;5;241m.\u001b[39moptions\u001b[38;5;241m.\u001b[39mretry_reads \u001b[38;5;129;01mand\u001b[39;00m \u001b[38;5;129;01mnot\u001b[39;00m (session \u001b[38;5;129;01mand\u001b[39;00m session\u001b[38;5;241m.\u001b[39min_transaction)\n\u001b[0;32m   1539\u001b[0m )\n\u001b[1;32m-> 1540\u001b[0m \u001b[38;5;28;01mreturn\u001b[39;00m \u001b[38;5;28mself\u001b[39m\u001b[38;5;241m.\u001b[39m_retry_internal(\n\u001b[0;32m   1541\u001b[0m     func,\n\u001b[0;32m   1542\u001b[0m     session,\n\u001b[0;32m   1543\u001b[0m     \u001b[38;5;28;01mNone\u001b[39;00m,\n\u001b[0;32m   1544\u001b[0m     operation,\n\u001b[0;32m   1545\u001b[0m     is_read\u001b[38;5;241m=\u001b[39m\u001b[38;5;28;01mTrue\u001b[39;00m,\n\u001b[0;32m   1546\u001b[0m     address\u001b[38;5;241m=\u001b[39maddress,\n\u001b[0;32m   1547\u001b[0m     read_pref\u001b[38;5;241m=\u001b[39mread_pref,\n\u001b[0;32m   1548\u001b[0m     retryable\u001b[38;5;241m=\u001b[39mretryable,\n\u001b[0;32m   1549\u001b[0m     operation_id\u001b[38;5;241m=\u001b[39moperation_id,\n\u001b[0;32m   1550\u001b[0m )\n",
      "File \u001b[1;32mC:\\Anaconda\\Lib\\site-packages\\pymongo\\_csot.py:108\u001b[0m, in \u001b[0;36mapply.<locals>.csot_wrapper\u001b[1;34m(self, *args, **kwargs)\u001b[0m\n\u001b[0;32m    106\u001b[0m         \u001b[38;5;28;01mwith\u001b[39;00m _TimeoutContext(timeout):\n\u001b[0;32m    107\u001b[0m             \u001b[38;5;28;01mreturn\u001b[39;00m func(\u001b[38;5;28mself\u001b[39m, \u001b[38;5;241m*\u001b[39margs, \u001b[38;5;241m*\u001b[39m\u001b[38;5;241m*\u001b[39mkwargs)\n\u001b[1;32m--> 108\u001b[0m \u001b[38;5;28;01mreturn\u001b[39;00m func(\u001b[38;5;28mself\u001b[39m, \u001b[38;5;241m*\u001b[39margs, \u001b[38;5;241m*\u001b[39m\u001b[38;5;241m*\u001b[39mkwargs)\n",
      "File \u001b[1;32mC:\\Anaconda\\Lib\\site-packages\\pymongo\\mongo_client.py:1507\u001b[0m, in \u001b[0;36mMongoClient._retry_internal\u001b[1;34m(self, func, session, bulk, operation, is_read, address, read_pref, retryable, operation_id)\u001b[0m\n\u001b[0;32m   1470\u001b[0m \u001b[38;5;129m@_csot\u001b[39m\u001b[38;5;241m.\u001b[39mapply\n\u001b[0;32m   1471\u001b[0m \u001b[38;5;28;01mdef\u001b[39;00m \u001b[38;5;21m_retry_internal\u001b[39m(\n\u001b[0;32m   1472\u001b[0m     \u001b[38;5;28mself\u001b[39m,\n\u001b[1;32m   (...)\u001b[0m\n\u001b[0;32m   1481\u001b[0m     operation_id: Optional[\u001b[38;5;28mint\u001b[39m] \u001b[38;5;241m=\u001b[39m \u001b[38;5;28;01mNone\u001b[39;00m,\n\u001b[0;32m   1482\u001b[0m ) \u001b[38;5;241m-\u001b[39m\u001b[38;5;241m>\u001b[39m T:\n\u001b[0;32m   1483\u001b[0m \u001b[38;5;250m    \u001b[39m\u001b[38;5;124;03m\"\"\"Internal retryable helper for all client transactions.\u001b[39;00m\n\u001b[0;32m   1484\u001b[0m \n\u001b[0;32m   1485\u001b[0m \u001b[38;5;124;03m    :param func: Callback function we want to retry\u001b[39;00m\n\u001b[1;32m   (...)\u001b[0m\n\u001b[0;32m   1494\u001b[0m \u001b[38;5;124;03m    :return: Output of the calling func()\u001b[39;00m\n\u001b[0;32m   1495\u001b[0m \u001b[38;5;124;03m    \"\"\"\u001b[39;00m\n\u001b[0;32m   1496\u001b[0m     \u001b[38;5;28;01mreturn\u001b[39;00m _ClientConnectionRetryable(\n\u001b[0;32m   1497\u001b[0m         mongo_client\u001b[38;5;241m=\u001b[39m\u001b[38;5;28mself\u001b[39m,\n\u001b[0;32m   1498\u001b[0m         func\u001b[38;5;241m=\u001b[39mfunc,\n\u001b[0;32m   1499\u001b[0m         bulk\u001b[38;5;241m=\u001b[39mbulk,\n\u001b[0;32m   1500\u001b[0m         operation\u001b[38;5;241m=\u001b[39moperation,\n\u001b[0;32m   1501\u001b[0m         is_read\u001b[38;5;241m=\u001b[39mis_read,\n\u001b[0;32m   1502\u001b[0m         session\u001b[38;5;241m=\u001b[39msession,\n\u001b[0;32m   1503\u001b[0m         read_pref\u001b[38;5;241m=\u001b[39mread_pref,\n\u001b[0;32m   1504\u001b[0m         address\u001b[38;5;241m=\u001b[39maddress,\n\u001b[0;32m   1505\u001b[0m         retryable\u001b[38;5;241m=\u001b[39mretryable,\n\u001b[0;32m   1506\u001b[0m         operation_id\u001b[38;5;241m=\u001b[39moperation_id,\n\u001b[1;32m-> 1507\u001b[0m     )\u001b[38;5;241m.\u001b[39mrun()\n",
      "File \u001b[1;32mC:\\Anaconda\\Lib\\site-packages\\pymongo\\mongo_client.py:2353\u001b[0m, in \u001b[0;36m_ClientConnectionRetryable.run\u001b[1;34m(self)\u001b[0m\n\u001b[0;32m   2351\u001b[0m \u001b[38;5;28mself\u001b[39m\u001b[38;5;241m.\u001b[39m_check_last_error(check_csot\u001b[38;5;241m=\u001b[39m\u001b[38;5;28;01mTrue\u001b[39;00m)\n\u001b[0;32m   2352\u001b[0m \u001b[38;5;28;01mtry\u001b[39;00m:\n\u001b[1;32m-> 2353\u001b[0m     \u001b[38;5;28;01mreturn\u001b[39;00m \u001b[38;5;28mself\u001b[39m\u001b[38;5;241m.\u001b[39m_read() \u001b[38;5;28;01mif\u001b[39;00m \u001b[38;5;28mself\u001b[39m\u001b[38;5;241m.\u001b[39m_is_read \u001b[38;5;28;01melse\u001b[39;00m \u001b[38;5;28mself\u001b[39m\u001b[38;5;241m.\u001b[39m_write()\n\u001b[0;32m   2354\u001b[0m \u001b[38;5;28;01mexcept\u001b[39;00m ServerSelectionTimeoutError:\n\u001b[0;32m   2355\u001b[0m     \u001b[38;5;66;03m# The application may think the write was never attempted\u001b[39;00m\n\u001b[0;32m   2356\u001b[0m     \u001b[38;5;66;03m# if we raise ServerSelectionTimeoutError on the retry\u001b[39;00m\n\u001b[0;32m   2357\u001b[0m     \u001b[38;5;66;03m# attempt. Raise the original exception instead.\u001b[39;00m\n\u001b[0;32m   2358\u001b[0m     \u001b[38;5;28mself\u001b[39m\u001b[38;5;241m.\u001b[39m_check_last_error()\n",
      "File \u001b[1;32mC:\\Anaconda\\Lib\\site-packages\\pymongo\\mongo_client.py:2491\u001b[0m, in \u001b[0;36m_ClientConnectionRetryable._read\u001b[1;34m(self)\u001b[0m\n\u001b[0;32m   2489\u001b[0m \u001b[38;5;28;01mif\u001b[39;00m \u001b[38;5;28mself\u001b[39m\u001b[38;5;241m.\u001b[39m_retrying \u001b[38;5;129;01mand\u001b[39;00m \u001b[38;5;129;01mnot\u001b[39;00m \u001b[38;5;28mself\u001b[39m\u001b[38;5;241m.\u001b[39m_retryable:\n\u001b[0;32m   2490\u001b[0m     \u001b[38;5;28mself\u001b[39m\u001b[38;5;241m.\u001b[39m_check_last_error()\n\u001b[1;32m-> 2491\u001b[0m \u001b[38;5;28;01mreturn\u001b[39;00m \u001b[38;5;28mself\u001b[39m\u001b[38;5;241m.\u001b[39m_func(\u001b[38;5;28mself\u001b[39m\u001b[38;5;241m.\u001b[39m_session, \u001b[38;5;28mself\u001b[39m\u001b[38;5;241m.\u001b[39m_server, conn, read_pref)\n",
      "File \u001b[1;32mC:\\Anaconda\\Lib\\site-packages\\pymongo\\mongo_client.py:1422\u001b[0m, in \u001b[0;36mMongoClient._run_operation.<locals>._cmd\u001b[1;34m(_session, server, conn, read_preference)\u001b[0m\n\u001b[0;32m   1415\u001b[0m \u001b[38;5;28;01mdef\u001b[39;00m \u001b[38;5;21m_cmd\u001b[39m(\n\u001b[0;32m   1416\u001b[0m     _session: Optional[ClientSession],\n\u001b[0;32m   1417\u001b[0m     server: Server,\n\u001b[0;32m   1418\u001b[0m     conn: Connection,\n\u001b[0;32m   1419\u001b[0m     read_preference: _ServerMode,\n\u001b[0;32m   1420\u001b[0m ) \u001b[38;5;241m-\u001b[39m\u001b[38;5;241m>\u001b[39m Response:\n\u001b[0;32m   1421\u001b[0m     operation\u001b[38;5;241m.\u001b[39mreset()  \u001b[38;5;66;03m# Reset op in case of retry.\u001b[39;00m\n\u001b[1;32m-> 1422\u001b[0m     \u001b[38;5;28;01mreturn\u001b[39;00m server\u001b[38;5;241m.\u001b[39mrun_operation(\n\u001b[0;32m   1423\u001b[0m         conn,\n\u001b[0;32m   1424\u001b[0m         operation,\n\u001b[0;32m   1425\u001b[0m         read_preference,\n\u001b[0;32m   1426\u001b[0m         \u001b[38;5;28mself\u001b[39m\u001b[38;5;241m.\u001b[39m_event_listeners,\n\u001b[0;32m   1427\u001b[0m         unpack_res,\n\u001b[0;32m   1428\u001b[0m         \u001b[38;5;28mself\u001b[39m,\n\u001b[0;32m   1429\u001b[0m     )\n",
      "File \u001b[1;32mC:\\Anaconda\\Lib\\site-packages\\pymongo\\helpers.py:342\u001b[0m, in \u001b[0;36m_handle_reauth.<locals>.inner\u001b[1;34m(*args, **kwargs)\u001b[0m\n\u001b[0;32m    339\u001b[0m \u001b[38;5;28;01mfrom\u001b[39;00m \u001b[38;5;21;01mpymongo\u001b[39;00m\u001b[38;5;21;01m.\u001b[39;00m\u001b[38;5;21;01mpool\u001b[39;00m \u001b[38;5;28;01mimport\u001b[39;00m Connection\n\u001b[0;32m    341\u001b[0m \u001b[38;5;28;01mtry\u001b[39;00m:\n\u001b[1;32m--> 342\u001b[0m     \u001b[38;5;28;01mreturn\u001b[39;00m func(\u001b[38;5;241m*\u001b[39margs, \u001b[38;5;241m*\u001b[39m\u001b[38;5;241m*\u001b[39mkwargs)\n\u001b[0;32m    343\u001b[0m \u001b[38;5;28;01mexcept\u001b[39;00m OperationFailure \u001b[38;5;28;01mas\u001b[39;00m exc:\n\u001b[0;32m    344\u001b[0m     \u001b[38;5;28;01mif\u001b[39;00m no_reauth:\n",
      "File \u001b[1;32mC:\\Anaconda\\Lib\\site-packages\\pymongo\\server.py:190\u001b[0m, in \u001b[0;36mServer.run_operation\u001b[1;34m(self, conn, operation, read_preference, listeners, unpack_res, client)\u001b[0m\n\u001b[0;32m    188\u001b[0m         first \u001b[38;5;241m=\u001b[39m docs[\u001b[38;5;241m0\u001b[39m]\n\u001b[0;32m    189\u001b[0m         operation\u001b[38;5;241m.\u001b[39mclient\u001b[38;5;241m.\u001b[39m_process_response(first, operation\u001b[38;5;241m.\u001b[39msession)\n\u001b[1;32m--> 190\u001b[0m         _check_command_response(first, conn\u001b[38;5;241m.\u001b[39mmax_wire_version)\n\u001b[0;32m    191\u001b[0m \u001b[38;5;28;01mexcept\u001b[39;00m \u001b[38;5;167;01mException\u001b[39;00m \u001b[38;5;28;01mas\u001b[39;00m exc:\n\u001b[0;32m    192\u001b[0m     duration \u001b[38;5;241m=\u001b[39m datetime\u001b[38;5;241m.\u001b[39mnow() \u001b[38;5;241m-\u001b[39m start\n",
      "File \u001b[1;32mC:\\Anaconda\\Lib\\site-packages\\pymongo\\helpers.py:248\u001b[0m, in \u001b[0;36m_check_command_response\u001b[1;34m(response, max_wire_version, allowable_errors, parse_write_concern_error)\u001b[0m\n\u001b[0;32m    245\u001b[0m \u001b[38;5;28;01melif\u001b[39;00m code \u001b[38;5;241m==\u001b[39m \u001b[38;5;241m43\u001b[39m:\n\u001b[0;32m    246\u001b[0m     \u001b[38;5;28;01mraise\u001b[39;00m CursorNotFound(errmsg, code, response, max_wire_version)\n\u001b[1;32m--> 248\u001b[0m \u001b[38;5;28;01mraise\u001b[39;00m OperationFailure(errmsg, code, response, max_wire_version)\n",
      "\u001b[1;31mOperationFailure\u001b[0m: error processing query: ns=Geospace.LocationsTree: GEONEAR  field=location maxdist=1.79769e+308 isNearSphere=0\nSort: {}\nProj: {}\n planner returned error :: caused by :: unable to find index for $geoNear query, full error: {'ok': 0.0, 'errmsg': 'error processing query: ns=Geospace.LocationsTree: GEONEAR  field=location maxdist=1.79769e+308 isNearSphere=0\\nSort: {}\\nProj: {}\\n planner returned error :: caused by :: unable to find index for $geoNear query', 'code': 291, 'codeName': 'NoQueryExecutionPlans'}"
     ]
    }
   ],
   "source": [
    "for location in nearby_locations:\n",
    "    print(location)  ## Error because we need to create the index first"
   ]
  },
  {
   "cell_type": "code",
   "execution_count": 8,
   "id": "e1f7e031",
   "metadata": {},
   "outputs": [
    {
     "data": {
      "text/plain": [
       "'location_2dsphere'"
      ]
     },
     "execution_count": 8,
     "metadata": {},
     "output_type": "execute_result"
    }
   ],
   "source": [
    "collection.create_index([(\"location\", \"2dsphere\")])"
   ]
  },
  {
   "cell_type": "code",
   "execution_count": 21,
   "id": "02cadac0",
   "metadata": {},
   "outputs": [],
   "source": [
    "nearby_locations = collection.find({\n",
    "    \"location\": {\n",
    "        \"$near\": {\n",
    "            \"$geometry\": {\n",
    "                \"type\": \"Point\",\n",
    "                \"coordinates\": [\n",
    "                    # 8.9990307,77.2211693  MKB School\n",
    "                    8.9990307,   # Latitude first\n",
    "                    77.2211693  # Longitude second\n",
    "                \n",
    "                ]\n",
    "            },\n",
    "            \n",
    "            \"$maxDistance\": 20 # Takes 20 meters surrondings\n",
    "        }\n",
    "    }\n",
    "})"
   ]
  },
  {
   "cell_type": "code",
   "execution_count": 22,
   "id": "c71f1e74",
   "metadata": {},
   "outputs": [
    {
     "name": "stdout",
     "output_type": "stream",
     "text": [
      "{'_id': ObjectId('668e34db5ebe7e7915cce456'), 'name': 'Ahamed Cabs', 'location': {'type': 'Point', 'coordinates': [8.9989476, 77.2213398]}}\n"
     ]
    }
   ],
   "source": [
    "for location in nearby_locations:\n",
    "    print(location)"
   ]
  },
  {
   "cell_type": "code",
   "execution_count": 11,
   "id": "fe6bec18",
   "metadata": {},
   "outputs": [
    {
     "data": {
      "text/plain": [
       "InsertOneResult(ObjectId('668e345a5ebe7e7915cce453'), acknowledged=True)"
      ]
     },
     "execution_count": 11,
     "metadata": {},
     "output_type": "execute_result"
    }
   ],
   "source": [
    "## Add more records\n",
    "\n",
    "data = {\n",
    "    \"name\": \"Canara bank\",\n",
    "    \"location\": {\n",
    "        \"type\": \"Point\",\n",
    "        \"coordinates\": [\n",
    "            8.9991189,  # Latitude first\n",
    "            77.2192646    # Longitude second\n",
    "        ]\n",
    "    }\n",
    "}\n",
    "\n",
    "# Insert the data into the collection\n",
    "collection.insert_one(data)"
   ]
  },
  {
   "cell_type": "markdown",
   "id": "366f8966",
   "metadata": {},
   "source": [
    "### Wroking with polygons"
   ]
  },
  {
   "cell_type": "code",
   "execution_count": 39,
   "id": "31226141",
   "metadata": {},
   "outputs": [
    {
     "data": {
      "text/plain": [
       "InsertManyResult([ObjectId('668e3b575ebe7e7915cce467'), ObjectId('668e3b575ebe7e7915cce468'), ObjectId('668e3b575ebe7e7915cce469')], acknowledged=True)"
      ]
     },
     "execution_count": 39,
     "metadata": {},
     "output_type": "execute_result"
    }
   ],
   "source": [
    "from pymongo import MongoClient\n",
    "\n",
    "# Creation of object MongoClient\n",
    "client = MongoClient()\n",
    "\n",
    "# Connect with the port number and host\n",
    "client = MongoClient(\"mongodb://localhost:27017/\")\n",
    "\n",
    "# Access database\n",
    "mydatabase = client['Geospace']\n",
    "\n",
    "# Access collection of the database\n",
    "collection = mydatabase['Polygons']\n",
    "# Insert example points data\n",
    "point_data = [\n",
    "    {\n",
    "        \"name\": \"Point A\",\n",
    "        \"location\": {\n",
    "            \"type\": \"Point\",\n",
    "            \"coordinates\": [1, 1]\n",
    "        }\n",
    "    },\n",
    "    {\n",
    "        \"name\": \"Point B\",\n",
    "        \"location\": {\n",
    "            \"type\": \"Point\",\n",
    "            \"coordinates\": [2, 2]\n",
    "        }\n",
    "    },\n",
    "    {\n",
    "        \"name\": \"Point C\",\n",
    "        \"location\": {\n",
    "            \"type\": \"Point\",\n",
    "            \"coordinates\": [3, 3]\n",
    "        }\n",
    "    }\n",
    "]\n",
    "\n",
    "# Insert the point data into the collection\n",
    "collection.insert_many(point_data)"
   ]
  },
  {
   "cell_type": "code",
   "execution_count": 40,
   "id": "6d054770",
   "metadata": {},
   "outputs": [
    {
     "data": {
      "text/plain": [
       "'location_2dsphere'"
      ]
     },
     "execution_count": 40,
     "metadata": {},
     "output_type": "execute_result"
    }
   ],
   "source": [
    "# Create a 2dsphere index on the 'location' field\n",
    "collection.create_index([(\"location\", \"2dsphere\")])"
   ]
  },
  {
   "cell_type": "code",
   "execution_count": 45,
   "id": "da526d85",
   "metadata": {},
   "outputs": [
    {
     "name": "stdout",
     "output_type": "stream",
     "text": [
      "{'_id': ObjectId('668e3b575ebe7e7915cce468'), 'name': 'Point B', 'location': {'type': 'Point', 'coordinates': [2, 2]}}\n"
     ]
    }
   ],
   "source": [
    "# Define the polygon coordinates\n",
    "polygon_coordinates = [\n",
    "    [0, 0],\n",
    "    [0, 5],\n",
    "    [5, 5],\n",
    "    [5, 0],\n",
    "    [0, 0]\n",
    "]\n",
    "\n",
    "# Define the query to find points both within and near the polygon\n",
    "query = {\n",
    "    \"location\": {\n",
    "        \"$geoWithin\": {\n",
    "            \"$geometry\": {\n",
    "                \"type\": \"Polygon\",\n",
    "                \"coordinates\": [polygon_coordinates]\n",
    "            }\n",
    "        }\n",
    "    },\n",
    "    \"location\": {\n",
    "        \"$near\": {\n",
    "            \"$geometry\": {\n",
    "                \"type\": \"Point\",\n",
    "                \"coordinates\": [2, 2]\n",
    "            },\n",
    "            \"$maxDistance\": 1000  # Adjust the maximum distance as needed\n",
    "        }\n",
    "    }\n",
    "}\n",
    "\n",
    "# Perform the query\n",
    "results = collection.find(query)\n",
    "\n",
    "# Print the results\n",
    "for result in results:\n",
    "    print(result)"
   ]
  },
  {
   "cell_type": "markdown",
   "id": "df3a5c7f",
   "metadata": {},
   "source": [
    "## Coordinate System\n",
    "\n",
    "1. **Latitude and Longitude**:\n",
    "   - Coordinates are specified as `[longitude, latitude]` in GeoJSON format.\n",
    "   - Longitude ranges from -180 to 180 degrees.\n",
    "   - Latitude ranges from -90 to 90 degrees.\n",
    "\n",
    "### Geospatial Indexing\n",
    "\n",
    "1. **2dsphere Index**:\n",
    "   - Used for spherical coordinates (representing the Earth's surface).\n",
    "   - Supports querying data in GeoJSON format.\n",
    "   - Uses spherical geometry calculations to determine distances and relationships.\n",
    "\n",
    "### Distance Calculations\n",
    "\n",
    "1. **Great-Circle Distance**:\n",
    "   - For spherical coordinates, MongoDB uses the Haversine formula to calculate the great-circle distance between two points.\n",
    "   - The formula accounts for the Earth's curvature and provides the shortest distance over the Earth's surface.\n",
    "\n",
    "2. **Flat Plane Distance**:\n",
    "   - For flat coordinates, a simple Euclidean distance formula is used.\n",
    "\n",
    "### Haversine Formula (Spherical)\n",
    "\n",
    "The Haversine formula calculates the distance between two points on a sphere given their longitudes and latitudes:\n",
    "\n",
    "\\[ a = \\sin^2\\left(\\frac{\\Delta \\phi}{2}\\right) + \\cos(\\phi_1) \\cdot \\cos(\\phi_2) \\cdot \\sin^2\\left(\\frac{\\Delta \\lambda}{2}\\right) \\]\n",
    "\n",
    "\\[ c = 2 \\cdot \\text{atan2}\\left(\\sqrt{a}, \\sqrt{1-a}\\right) \\]\n",
    "\n",
    "\\[ d = R \\cdot c \\]\n",
    "\n",
    "Where:\n",
    "- \\( \\phi \\) is latitude in radians.\n",
    "- \\( \\lambda \\) is longitude in radians.\n",
    "- \\( \\Delta \\phi \\) and \\( \\Delta \\lambda \\) are the differences in latitude and longitude.\n",
    "- \\( R \\) is the Earth's radius (mean radius = 6,371 km).\n",
    "- \\( d \\) is the distance between the two points.\n",
    "\n"
   ]
  },
  {
   "cell_type": "markdown",
   "id": "18d8a8bf",
   "metadata": {},
   "source": [
    "#### Prepared By,\n",
    "Ahamed Basith"
   ]
  },
  {
   "cell_type": "code",
   "execution_count": null,
   "id": "caf68de2",
   "metadata": {},
   "outputs": [],
   "source": []
  }
 ],
 "metadata": {
  "kernelspec": {
   "display_name": "Python 3 (ipykernel)",
   "language": "python",
   "name": "python3"
  },
  "language_info": {
   "codemirror_mode": {
    "name": "ipython",
    "version": 3
   },
   "file_extension": ".py",
   "mimetype": "text/x-python",
   "name": "python",
   "nbconvert_exporter": "python",
   "pygments_lexer": "ipython3",
   "version": "3.11.5"
  }
 },
 "nbformat": 4,
 "nbformat_minor": 5
}
